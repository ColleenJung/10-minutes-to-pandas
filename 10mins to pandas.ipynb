{
 "cells": [
  {
   "cell_type": "code",
   "execution_count": 1,
   "id": "5a285d50",
   "metadata": {},
   "outputs": [],
   "source": [
    "import numpy as np\n",
    "import pandas as pd"
   ]
  },
  {
   "cell_type": "markdown",
   "id": "877d5651",
   "metadata": {},
   "source": [
    "## Basic data structures in pandas\n",
    "\n",
    "1. 'Series': a one-dimensional labeled array holding data of any type\n",
    "\n",
    "2. 'DataFrame': a two-dimensional data structure that holds data like a two-dimension array or a table with rows and columns."
   ]
  },
  {
   "cell_type": "markdown",
   "id": "cdccfeda",
   "metadata": {},
   "source": [
    "## Object Creation\n",
    "- Series"
   ]
  },
  {
   "cell_type": "code",
   "execution_count": 5,
   "id": "a58b8f64",
   "metadata": {},
   "outputs": [
    {
     "data": {
      "text/plain": [
       "0    91.0\n",
       "1     4.0\n",
       "2     5.0\n",
       "3     NaN\n",
       "4     6.0\n",
       "5     8.0\n",
       "dtype: float64"
      ]
     },
     "execution_count": 5,
     "metadata": {},
     "output_type": "execute_result"
    }
   ],
   "source": [
    "s= pd.Series([91,4,5,np.nan, 6,8])\n",
    "s"
   ]
  },
  {
   "cell_type": "markdown",
   "id": "e8f82cb7",
   "metadata": {},
   "source": [
    "- DataFrame"
   ]
  },
  {
   "cell_type": "code",
   "execution_count": 10,
   "id": "d5edfa9b",
   "metadata": {},
   "outputs": [
    {
     "data": {
      "text/plain": [
       "DatetimeIndex(['2024-01-01', '2024-01-02', '2024-01-03', '2024-01-04',\n",
       "               '2024-01-05', '2024-01-06'],\n",
       "              dtype='datetime64[ns]', freq='D')"
      ]
     },
     "execution_count": 10,
     "metadata": {},
     "output_type": "execute_result"
    }
   ],
   "source": [
    "dates= pd.date_range('20240101', periods=6)\n",
    "dates"
   ]
  },
  {
   "cell_type": "code",
   "execution_count": 13,
   "id": "f835d610",
   "metadata": {},
   "outputs": [
    {
     "data": {
      "text/html": [
       "<div>\n",
       "<style scoped>\n",
       "    .dataframe tbody tr th:only-of-type {\n",
       "        vertical-align: middle;\n",
       "    }\n",
       "\n",
       "    .dataframe tbody tr th {\n",
       "        vertical-align: top;\n",
       "    }\n",
       "\n",
       "    .dataframe thead th {\n",
       "        text-align: right;\n",
       "    }\n",
       "</style>\n",
       "<table border=\"1\" class=\"dataframe\">\n",
       "  <thead>\n",
       "    <tr style=\"text-align: right;\">\n",
       "      <th></th>\n",
       "      <th>A</th>\n",
       "      <th>B</th>\n",
       "      <th>C</th>\n",
       "      <th>D</th>\n",
       "    </tr>\n",
       "  </thead>\n",
       "  <tbody>\n",
       "    <tr>\n",
       "      <th>2024-01-01</th>\n",
       "      <td>-1.815900</td>\n",
       "      <td>-0.005056</td>\n",
       "      <td>1.051223</td>\n",
       "      <td>-0.413009</td>\n",
       "    </tr>\n",
       "    <tr>\n",
       "      <th>2024-01-02</th>\n",
       "      <td>-1.257618</td>\n",
       "      <td>-0.554829</td>\n",
       "      <td>-0.288035</td>\n",
       "      <td>-1.308854</td>\n",
       "    </tr>\n",
       "    <tr>\n",
       "      <th>2024-01-03</th>\n",
       "      <td>-0.688645</td>\n",
       "      <td>-0.880864</td>\n",
       "      <td>1.638330</td>\n",
       "      <td>-1.953718</td>\n",
       "    </tr>\n",
       "    <tr>\n",
       "      <th>2024-01-04</th>\n",
       "      <td>-0.264555</td>\n",
       "      <td>0.151149</td>\n",
       "      <td>0.700875</td>\n",
       "      <td>-1.227981</td>\n",
       "    </tr>\n",
       "    <tr>\n",
       "      <th>2024-01-05</th>\n",
       "      <td>1.243429</td>\n",
       "      <td>-0.134667</td>\n",
       "      <td>0.015801</td>\n",
       "      <td>-0.720147</td>\n",
       "    </tr>\n",
       "    <tr>\n",
       "      <th>2024-01-06</th>\n",
       "      <td>-0.591437</td>\n",
       "      <td>1.398511</td>\n",
       "      <td>-1.373075</td>\n",
       "      <td>-2.223226</td>\n",
       "    </tr>\n",
       "  </tbody>\n",
       "</table>\n",
       "</div>"
      ],
      "text/plain": [
       "                   A         B         C         D\n",
       "2024-01-01 -1.815900 -0.005056  1.051223 -0.413009\n",
       "2024-01-02 -1.257618 -0.554829 -0.288035 -1.308854\n",
       "2024-01-03 -0.688645 -0.880864  1.638330 -1.953718\n",
       "2024-01-04 -0.264555  0.151149  0.700875 -1.227981\n",
       "2024-01-05  1.243429 -0.134667  0.015801 -0.720147\n",
       "2024-01-06 -0.591437  1.398511 -1.373075 -2.223226"
      ]
     },
     "execution_count": 13,
     "metadata": {},
     "output_type": "execute_result"
    }
   ],
   "source": [
    "df= pd.DataFrame(np.random.randn(6,4),index= dates, columns=list(\"ABCD\"))\n",
    "df"
   ]
  },
  {
   "cell_type": "code",
   "execution_count": 14,
   "id": "3ea273ca",
   "metadata": {},
   "outputs": [
    {
     "data": {
      "text/plain": [
       "['A', 'B', 'C', 'D']"
      ]
     },
     "execution_count": 14,
     "metadata": {},
     "output_type": "execute_result"
    }
   ],
   "source": [
    "list(\"ABCD\")"
   ]
  },
  {
   "cell_type": "code",
   "execution_count": 15,
   "id": "285919e6",
   "metadata": {},
   "outputs": [
    {
     "data": {
      "text/html": [
       "<div>\n",
       "<style scoped>\n",
       "    .dataframe tbody tr th:only-of-type {\n",
       "        vertical-align: middle;\n",
       "    }\n",
       "\n",
       "    .dataframe tbody tr th {\n",
       "        vertical-align: top;\n",
       "    }\n",
       "\n",
       "    .dataframe thead th {\n",
       "        text-align: right;\n",
       "    }\n",
       "</style>\n",
       "<table border=\"1\" class=\"dataframe\">\n",
       "  <thead>\n",
       "    <tr style=\"text-align: right;\">\n",
       "      <th></th>\n",
       "      <th>A</th>\n",
       "      <th>B</th>\n",
       "      <th>C</th>\n",
       "      <th>D</th>\n",
       "      <th>E</th>\n",
       "      <th>F</th>\n",
       "    </tr>\n",
       "  </thead>\n",
       "  <tbody>\n",
       "    <tr>\n",
       "      <th>0</th>\n",
       "      <td>1.0</td>\n",
       "      <td>2013-01-02</td>\n",
       "      <td>1.0</td>\n",
       "      <td>3</td>\n",
       "      <td>test</td>\n",
       "      <td>foo</td>\n",
       "    </tr>\n",
       "    <tr>\n",
       "      <th>1</th>\n",
       "      <td>1.0</td>\n",
       "      <td>2013-01-02</td>\n",
       "      <td>1.0</td>\n",
       "      <td>3</td>\n",
       "      <td>train</td>\n",
       "      <td>foo</td>\n",
       "    </tr>\n",
       "    <tr>\n",
       "      <th>2</th>\n",
       "      <td>1.0</td>\n",
       "      <td>2013-01-02</td>\n",
       "      <td>1.0</td>\n",
       "      <td>3</td>\n",
       "      <td>test</td>\n",
       "      <td>foo</td>\n",
       "    </tr>\n",
       "    <tr>\n",
       "      <th>3</th>\n",
       "      <td>1.0</td>\n",
       "      <td>2013-01-02</td>\n",
       "      <td>1.0</td>\n",
       "      <td>3</td>\n",
       "      <td>train</td>\n",
       "      <td>foo</td>\n",
       "    </tr>\n",
       "  </tbody>\n",
       "</table>\n",
       "</div>"
      ],
      "text/plain": [
       "     A          B    C  D      E    F\n",
       "0  1.0 2013-01-02  1.0  3   test  foo\n",
       "1  1.0 2013-01-02  1.0  3  train  foo\n",
       "2  1.0 2013-01-02  1.0  3   test  foo\n",
       "3  1.0 2013-01-02  1.0  3  train  foo"
      ]
     },
     "execution_count": 15,
     "metadata": {},
     "output_type": "execute_result"
    }
   ],
   "source": [
    "df2= pd.DataFrame(\n",
    "    {\n",
    "        \"A\": 1.0,\n",
    "        \"B\": pd.Timestamp(\"20130102\"),\n",
    "        \"C\": pd.Series(1, index=list(range(4)), dtype=\"float32\"),\n",
    "        \"D\": np.array([3] * 4, dtype=\"int32\"),\n",
    "        \"E\": pd.Categorical([\"test\", \"train\", \"test\", \"train\"]),\n",
    "        \"F\": \"foo\",\n",
    "        \n",
    "    }\n",
    "\n",
    ")\n",
    "df2"
   ]
  },
  {
   "cell_type": "code",
   "execution_count": 16,
   "id": "e41c914e",
   "metadata": {},
   "outputs": [
    {
     "data": {
      "text/plain": [
       "array([3, 3, 3, 3])"
      ]
     },
     "execution_count": 16,
     "metadata": {},
     "output_type": "execute_result"
    }
   ],
   "source": [
    "np.array([3] * 4)"
   ]
  },
  {
   "cell_type": "code",
   "execution_count": 17,
   "id": "cee572ea",
   "metadata": {},
   "outputs": [
    {
     "data": {
      "text/plain": [
       "0    1\n",
       "1    1\n",
       "2    1\n",
       "3    1\n",
       "dtype: int64"
      ]
     },
     "execution_count": 17,
     "metadata": {},
     "output_type": "execute_result"
    }
   ],
   "source": [
    "pd.Series(1, index=list(range(4)))"
   ]
  },
  {
   "cell_type": "code",
   "execution_count": 18,
   "id": "9e8a1351",
   "metadata": {},
   "outputs": [
    {
     "data": {
      "text/plain": [
       "A           float64\n",
       "B    datetime64[ns]\n",
       "C           float32\n",
       "D             int32\n",
       "E          category\n",
       "F            object\n",
       "dtype: object"
      ]
     },
     "execution_count": 18,
     "metadata": {},
     "output_type": "execute_result"
    }
   ],
   "source": [
    "df2.dtypes"
   ]
  },
  {
   "cell_type": "code",
   "execution_count": 19,
   "id": "c124a1d2",
   "metadata": {},
   "outputs": [
    {
     "data": {
      "text/plain": [
       "A    float64\n",
       "B    float64\n",
       "C    float64\n",
       "D    float64\n",
       "dtype: object"
      ]
     },
     "execution_count": 19,
     "metadata": {},
     "output_type": "execute_result"
    }
   ],
   "source": [
    "df.dtypes"
   ]
  },
  {
   "cell_type": "markdown",
   "id": "b9e3ccc5",
   "metadata": {},
   "source": [
    "## Viewing data"
   ]
  },
  {
   "cell_type": "code",
   "execution_count": 21,
   "id": "b7a614f3",
   "metadata": {},
   "outputs": [
    {
     "data": {
      "text/html": [
       "<div>\n",
       "<style scoped>\n",
       "    .dataframe tbody tr th:only-of-type {\n",
       "        vertical-align: middle;\n",
       "    }\n",
       "\n",
       "    .dataframe tbody tr th {\n",
       "        vertical-align: top;\n",
       "    }\n",
       "\n",
       "    .dataframe thead th {\n",
       "        text-align: right;\n",
       "    }\n",
       "</style>\n",
       "<table border=\"1\" class=\"dataframe\">\n",
       "  <thead>\n",
       "    <tr style=\"text-align: right;\">\n",
       "      <th></th>\n",
       "      <th>A</th>\n",
       "      <th>B</th>\n",
       "      <th>C</th>\n",
       "      <th>D</th>\n",
       "    </tr>\n",
       "  </thead>\n",
       "  <tbody>\n",
       "    <tr>\n",
       "      <th>2024-01-01</th>\n",
       "      <td>-1.815900</td>\n",
       "      <td>-0.005056</td>\n",
       "      <td>1.051223</td>\n",
       "      <td>-0.413009</td>\n",
       "    </tr>\n",
       "    <tr>\n",
       "      <th>2024-01-02</th>\n",
       "      <td>-1.257618</td>\n",
       "      <td>-0.554829</td>\n",
       "      <td>-0.288035</td>\n",
       "      <td>-1.308854</td>\n",
       "    </tr>\n",
       "    <tr>\n",
       "      <th>2024-01-03</th>\n",
       "      <td>-0.688645</td>\n",
       "      <td>-0.880864</td>\n",
       "      <td>1.638330</td>\n",
       "      <td>-1.953718</td>\n",
       "    </tr>\n",
       "    <tr>\n",
       "      <th>2024-01-04</th>\n",
       "      <td>-0.264555</td>\n",
       "      <td>0.151149</td>\n",
       "      <td>0.700875</td>\n",
       "      <td>-1.227981</td>\n",
       "    </tr>\n",
       "    <tr>\n",
       "      <th>2024-01-05</th>\n",
       "      <td>1.243429</td>\n",
       "      <td>-0.134667</td>\n",
       "      <td>0.015801</td>\n",
       "      <td>-0.720147</td>\n",
       "    </tr>\n",
       "  </tbody>\n",
       "</table>\n",
       "</div>"
      ],
      "text/plain": [
       "                   A         B         C         D\n",
       "2024-01-01 -1.815900 -0.005056  1.051223 -0.413009\n",
       "2024-01-02 -1.257618 -0.554829 -0.288035 -1.308854\n",
       "2024-01-03 -0.688645 -0.880864  1.638330 -1.953718\n",
       "2024-01-04 -0.264555  0.151149  0.700875 -1.227981\n",
       "2024-01-05  1.243429 -0.134667  0.015801 -0.720147"
      ]
     },
     "execution_count": 21,
     "metadata": {},
     "output_type": "execute_result"
    }
   ],
   "source": [
    "df.head()"
   ]
  },
  {
   "cell_type": "code",
   "execution_count": 22,
   "id": "077410da",
   "metadata": {},
   "outputs": [
    {
     "data": {
      "text/html": [
       "<div>\n",
       "<style scoped>\n",
       "    .dataframe tbody tr th:only-of-type {\n",
       "        vertical-align: middle;\n",
       "    }\n",
       "\n",
       "    .dataframe tbody tr th {\n",
       "        vertical-align: top;\n",
       "    }\n",
       "\n",
       "    .dataframe thead th {\n",
       "        text-align: right;\n",
       "    }\n",
       "</style>\n",
       "<table border=\"1\" class=\"dataframe\">\n",
       "  <thead>\n",
       "    <tr style=\"text-align: right;\">\n",
       "      <th></th>\n",
       "      <th>A</th>\n",
       "      <th>B</th>\n",
       "      <th>C</th>\n",
       "      <th>D</th>\n",
       "    </tr>\n",
       "  </thead>\n",
       "  <tbody>\n",
       "    <tr>\n",
       "      <th>2024-01-02</th>\n",
       "      <td>-1.257618</td>\n",
       "      <td>-0.554829</td>\n",
       "      <td>-0.288035</td>\n",
       "      <td>-1.308854</td>\n",
       "    </tr>\n",
       "    <tr>\n",
       "      <th>2024-01-03</th>\n",
       "      <td>-0.688645</td>\n",
       "      <td>-0.880864</td>\n",
       "      <td>1.638330</td>\n",
       "      <td>-1.953718</td>\n",
       "    </tr>\n",
       "    <tr>\n",
       "      <th>2024-01-04</th>\n",
       "      <td>-0.264555</td>\n",
       "      <td>0.151149</td>\n",
       "      <td>0.700875</td>\n",
       "      <td>-1.227981</td>\n",
       "    </tr>\n",
       "    <tr>\n",
       "      <th>2024-01-05</th>\n",
       "      <td>1.243429</td>\n",
       "      <td>-0.134667</td>\n",
       "      <td>0.015801</td>\n",
       "      <td>-0.720147</td>\n",
       "    </tr>\n",
       "    <tr>\n",
       "      <th>2024-01-06</th>\n",
       "      <td>-0.591437</td>\n",
       "      <td>1.398511</td>\n",
       "      <td>-1.373075</td>\n",
       "      <td>-2.223226</td>\n",
       "    </tr>\n",
       "  </tbody>\n",
       "</table>\n",
       "</div>"
      ],
      "text/plain": [
       "                   A         B         C         D\n",
       "2024-01-02 -1.257618 -0.554829 -0.288035 -1.308854\n",
       "2024-01-03 -0.688645 -0.880864  1.638330 -1.953718\n",
       "2024-01-04 -0.264555  0.151149  0.700875 -1.227981\n",
       "2024-01-05  1.243429 -0.134667  0.015801 -0.720147\n",
       "2024-01-06 -0.591437  1.398511 -1.373075 -2.223226"
      ]
     },
     "execution_count": 22,
     "metadata": {},
     "output_type": "execute_result"
    }
   ],
   "source": [
    "df.tail()"
   ]
  },
  {
   "cell_type": "code",
   "execution_count": 23,
   "id": "412b2bd3",
   "metadata": {},
   "outputs": [
    {
     "data": {
      "text/plain": [
       "DatetimeIndex(['2024-01-01', '2024-01-02', '2024-01-03', '2024-01-04',\n",
       "               '2024-01-05', '2024-01-06'],\n",
       "              dtype='datetime64[ns]', freq='D')"
      ]
     },
     "execution_count": 23,
     "metadata": {},
     "output_type": "execute_result"
    }
   ],
   "source": [
    "df.index"
   ]
  },
  {
   "cell_type": "code",
   "execution_count": 24,
   "id": "9e3df585",
   "metadata": {},
   "outputs": [
    {
     "data": {
      "text/plain": [
       "Index(['A', 'B', 'C', 'D'], dtype='object')"
      ]
     },
     "execution_count": 24,
     "metadata": {},
     "output_type": "execute_result"
    }
   ],
   "source": [
    "df.columns"
   ]
  },
  {
   "cell_type": "code",
   "execution_count": 25,
   "id": "75d477d7",
   "metadata": {},
   "outputs": [
    {
     "data": {
      "text/plain": [
       "array([[-1.81590026, -0.00505619,  1.05122291, -0.4130089 ],\n",
       "       [-1.25761841, -0.55482857, -0.28803522, -1.30885431],\n",
       "       [-0.68864494, -0.88086403,  1.63832988, -1.95371813],\n",
       "       [-0.26455521,  0.15114871,  0.70087501, -1.22798088],\n",
       "       [ 1.24342906, -0.13466717,  0.01580094, -0.72014673],\n",
       "       [-0.59143714,  1.39851077, -1.37307499, -2.22322601]])"
      ]
     },
     "execution_count": 25,
     "metadata": {},
     "output_type": "execute_result"
    }
   ],
   "source": [
    "df.to_numpy()"
   ]
  },
  {
   "cell_type": "code",
   "execution_count": 26,
   "id": "4d5d43bb",
   "metadata": {},
   "outputs": [
    {
     "data": {
      "text/html": [
       "<div>\n",
       "<style scoped>\n",
       "    .dataframe tbody tr th:only-of-type {\n",
       "        vertical-align: middle;\n",
       "    }\n",
       "\n",
       "    .dataframe tbody tr th {\n",
       "        vertical-align: top;\n",
       "    }\n",
       "\n",
       "    .dataframe thead th {\n",
       "        text-align: right;\n",
       "    }\n",
       "</style>\n",
       "<table border=\"1\" class=\"dataframe\">\n",
       "  <thead>\n",
       "    <tr style=\"text-align: right;\">\n",
       "      <th></th>\n",
       "      <th>A</th>\n",
       "      <th>B</th>\n",
       "      <th>C</th>\n",
       "      <th>D</th>\n",
       "    </tr>\n",
       "  </thead>\n",
       "  <tbody>\n",
       "    <tr>\n",
       "      <th>count</th>\n",
       "      <td>6.000000</td>\n",
       "      <td>6.000000</td>\n",
       "      <td>6.000000</td>\n",
       "      <td>6.000000</td>\n",
       "    </tr>\n",
       "    <tr>\n",
       "      <th>mean</th>\n",
       "      <td>-0.562454</td>\n",
       "      <td>-0.004293</td>\n",
       "      <td>0.290853</td>\n",
       "      <td>-1.307822</td>\n",
       "    </tr>\n",
       "    <tr>\n",
       "      <th>std</th>\n",
       "      <td>1.041259</td>\n",
       "      <td>0.784918</td>\n",
       "      <td>1.071578</td>\n",
       "      <td>0.693913</td>\n",
       "    </tr>\n",
       "    <tr>\n",
       "      <th>min</th>\n",
       "      <td>-1.815900</td>\n",
       "      <td>-0.880864</td>\n",
       "      <td>-1.373075</td>\n",
       "      <td>-2.223226</td>\n",
       "    </tr>\n",
       "    <tr>\n",
       "      <th>25%</th>\n",
       "      <td>-1.115375</td>\n",
       "      <td>-0.449788</td>\n",
       "      <td>-0.212076</td>\n",
       "      <td>-1.792502</td>\n",
       "    </tr>\n",
       "    <tr>\n",
       "      <th>50%</th>\n",
       "      <td>-0.640041</td>\n",
       "      <td>-0.069862</td>\n",
       "      <td>0.358338</td>\n",
       "      <td>-1.268418</td>\n",
       "    </tr>\n",
       "    <tr>\n",
       "      <th>75%</th>\n",
       "      <td>-0.346276</td>\n",
       "      <td>0.112097</td>\n",
       "      <td>0.963636</td>\n",
       "      <td>-0.847105</td>\n",
       "    </tr>\n",
       "    <tr>\n",
       "      <th>max</th>\n",
       "      <td>1.243429</td>\n",
       "      <td>1.398511</td>\n",
       "      <td>1.638330</td>\n",
       "      <td>-0.413009</td>\n",
       "    </tr>\n",
       "  </tbody>\n",
       "</table>\n",
       "</div>"
      ],
      "text/plain": [
       "              A         B         C         D\n",
       "count  6.000000  6.000000  6.000000  6.000000\n",
       "mean  -0.562454 -0.004293  0.290853 -1.307822\n",
       "std    1.041259  0.784918  1.071578  0.693913\n",
       "min   -1.815900 -0.880864 -1.373075 -2.223226\n",
       "25%   -1.115375 -0.449788 -0.212076 -1.792502\n",
       "50%   -0.640041 -0.069862  0.358338 -1.268418\n",
       "75%   -0.346276  0.112097  0.963636 -0.847105\n",
       "max    1.243429  1.398511  1.638330 -0.413009"
      ]
     },
     "execution_count": 26,
     "metadata": {},
     "output_type": "execute_result"
    }
   ],
   "source": [
    "df.describe()"
   ]
  },
  {
   "cell_type": "code",
   "execution_count": 27,
   "id": "08a17f81",
   "metadata": {},
   "outputs": [
    {
     "data": {
      "text/html": [
       "<div>\n",
       "<style scoped>\n",
       "    .dataframe tbody tr th:only-of-type {\n",
       "        vertical-align: middle;\n",
       "    }\n",
       "\n",
       "    .dataframe tbody tr th {\n",
       "        vertical-align: top;\n",
       "    }\n",
       "\n",
       "    .dataframe thead th {\n",
       "        text-align: right;\n",
       "    }\n",
       "</style>\n",
       "<table border=\"1\" class=\"dataframe\">\n",
       "  <thead>\n",
       "    <tr style=\"text-align: right;\">\n",
       "      <th></th>\n",
       "      <th>2024-01-01</th>\n",
       "      <th>2024-01-02</th>\n",
       "      <th>2024-01-03</th>\n",
       "      <th>2024-01-04</th>\n",
       "      <th>2024-01-05</th>\n",
       "      <th>2024-01-06</th>\n",
       "    </tr>\n",
       "  </thead>\n",
       "  <tbody>\n",
       "    <tr>\n",
       "      <th>A</th>\n",
       "      <td>-1.815900</td>\n",
       "      <td>-1.257618</td>\n",
       "      <td>-0.688645</td>\n",
       "      <td>-0.264555</td>\n",
       "      <td>1.243429</td>\n",
       "      <td>-0.591437</td>\n",
       "    </tr>\n",
       "    <tr>\n",
       "      <th>B</th>\n",
       "      <td>-0.005056</td>\n",
       "      <td>-0.554829</td>\n",
       "      <td>-0.880864</td>\n",
       "      <td>0.151149</td>\n",
       "      <td>-0.134667</td>\n",
       "      <td>1.398511</td>\n",
       "    </tr>\n",
       "    <tr>\n",
       "      <th>C</th>\n",
       "      <td>1.051223</td>\n",
       "      <td>-0.288035</td>\n",
       "      <td>1.638330</td>\n",
       "      <td>0.700875</td>\n",
       "      <td>0.015801</td>\n",
       "      <td>-1.373075</td>\n",
       "    </tr>\n",
       "    <tr>\n",
       "      <th>D</th>\n",
       "      <td>-0.413009</td>\n",
       "      <td>-1.308854</td>\n",
       "      <td>-1.953718</td>\n",
       "      <td>-1.227981</td>\n",
       "      <td>-0.720147</td>\n",
       "      <td>-2.223226</td>\n",
       "    </tr>\n",
       "  </tbody>\n",
       "</table>\n",
       "</div>"
      ],
      "text/plain": [
       "   2024-01-01  2024-01-02  2024-01-03  2024-01-04  2024-01-05  2024-01-06\n",
       "A   -1.815900   -1.257618   -0.688645   -0.264555    1.243429   -0.591437\n",
       "B   -0.005056   -0.554829   -0.880864    0.151149   -0.134667    1.398511\n",
       "C    1.051223   -0.288035    1.638330    0.700875    0.015801   -1.373075\n",
       "D   -0.413009   -1.308854   -1.953718   -1.227981   -0.720147   -2.223226"
      ]
     },
     "execution_count": 27,
     "metadata": {},
     "output_type": "execute_result"
    }
   ],
   "source": [
    "df.T"
   ]
  },
  {
   "cell_type": "code",
   "execution_count": 29,
   "id": "1a3ea635",
   "metadata": {},
   "outputs": [
    {
     "data": {
      "text/html": [
       "<div>\n",
       "<style scoped>\n",
       "    .dataframe tbody tr th:only-of-type {\n",
       "        vertical-align: middle;\n",
       "    }\n",
       "\n",
       "    .dataframe tbody tr th {\n",
       "        vertical-align: top;\n",
       "    }\n",
       "\n",
       "    .dataframe thead th {\n",
       "        text-align: right;\n",
       "    }\n",
       "</style>\n",
       "<table border=\"1\" class=\"dataframe\">\n",
       "  <thead>\n",
       "    <tr style=\"text-align: right;\">\n",
       "      <th></th>\n",
       "      <th>D</th>\n",
       "      <th>C</th>\n",
       "      <th>B</th>\n",
       "      <th>A</th>\n",
       "    </tr>\n",
       "  </thead>\n",
       "  <tbody>\n",
       "    <tr>\n",
       "      <th>2024-01-01</th>\n",
       "      <td>-0.413009</td>\n",
       "      <td>1.051223</td>\n",
       "      <td>-0.005056</td>\n",
       "      <td>-1.815900</td>\n",
       "    </tr>\n",
       "    <tr>\n",
       "      <th>2024-01-02</th>\n",
       "      <td>-1.308854</td>\n",
       "      <td>-0.288035</td>\n",
       "      <td>-0.554829</td>\n",
       "      <td>-1.257618</td>\n",
       "    </tr>\n",
       "    <tr>\n",
       "      <th>2024-01-03</th>\n",
       "      <td>-1.953718</td>\n",
       "      <td>1.638330</td>\n",
       "      <td>-0.880864</td>\n",
       "      <td>-0.688645</td>\n",
       "    </tr>\n",
       "    <tr>\n",
       "      <th>2024-01-04</th>\n",
       "      <td>-1.227981</td>\n",
       "      <td>0.700875</td>\n",
       "      <td>0.151149</td>\n",
       "      <td>-0.264555</td>\n",
       "    </tr>\n",
       "    <tr>\n",
       "      <th>2024-01-05</th>\n",
       "      <td>-0.720147</td>\n",
       "      <td>0.015801</td>\n",
       "      <td>-0.134667</td>\n",
       "      <td>1.243429</td>\n",
       "    </tr>\n",
       "    <tr>\n",
       "      <th>2024-01-06</th>\n",
       "      <td>-2.223226</td>\n",
       "      <td>-1.373075</td>\n",
       "      <td>1.398511</td>\n",
       "      <td>-0.591437</td>\n",
       "    </tr>\n",
       "  </tbody>\n",
       "</table>\n",
       "</div>"
      ],
      "text/plain": [
       "                   D         C         B         A\n",
       "2024-01-01 -0.413009  1.051223 -0.005056 -1.815900\n",
       "2024-01-02 -1.308854 -0.288035 -0.554829 -1.257618\n",
       "2024-01-03 -1.953718  1.638330 -0.880864 -0.688645\n",
       "2024-01-04 -1.227981  0.700875  0.151149 -0.264555\n",
       "2024-01-05 -0.720147  0.015801 -0.134667  1.243429\n",
       "2024-01-06 -2.223226 -1.373075  1.398511 -0.591437"
      ]
     },
     "execution_count": 29,
     "metadata": {},
     "output_type": "execute_result"
    }
   ],
   "source": [
    "df.sort_index(axis=1, ascending=False)"
   ]
  },
  {
   "cell_type": "code",
   "execution_count": 32,
   "id": "7ff997cd",
   "metadata": {},
   "outputs": [
    {
     "data": {
      "text/html": [
       "<div>\n",
       "<style scoped>\n",
       "    .dataframe tbody tr th:only-of-type {\n",
       "        vertical-align: middle;\n",
       "    }\n",
       "\n",
       "    .dataframe tbody tr th {\n",
       "        vertical-align: top;\n",
       "    }\n",
       "\n",
       "    .dataframe thead th {\n",
       "        text-align: right;\n",
       "    }\n",
       "</style>\n",
       "<table border=\"1\" class=\"dataframe\">\n",
       "  <thead>\n",
       "    <tr style=\"text-align: right;\">\n",
       "      <th></th>\n",
       "      <th>A</th>\n",
       "      <th>B</th>\n",
       "      <th>C</th>\n",
       "      <th>D</th>\n",
       "    </tr>\n",
       "  </thead>\n",
       "  <tbody>\n",
       "    <tr>\n",
       "      <th>2024-01-03</th>\n",
       "      <td>-0.688645</td>\n",
       "      <td>-0.880864</td>\n",
       "      <td>1.638330</td>\n",
       "      <td>-1.953718</td>\n",
       "    </tr>\n",
       "    <tr>\n",
       "      <th>2024-01-02</th>\n",
       "      <td>-1.257618</td>\n",
       "      <td>-0.554829</td>\n",
       "      <td>-0.288035</td>\n",
       "      <td>-1.308854</td>\n",
       "    </tr>\n",
       "    <tr>\n",
       "      <th>2024-01-05</th>\n",
       "      <td>1.243429</td>\n",
       "      <td>-0.134667</td>\n",
       "      <td>0.015801</td>\n",
       "      <td>-0.720147</td>\n",
       "    </tr>\n",
       "    <tr>\n",
       "      <th>2024-01-01</th>\n",
       "      <td>-1.815900</td>\n",
       "      <td>-0.005056</td>\n",
       "      <td>1.051223</td>\n",
       "      <td>-0.413009</td>\n",
       "    </tr>\n",
       "    <tr>\n",
       "      <th>2024-01-04</th>\n",
       "      <td>-0.264555</td>\n",
       "      <td>0.151149</td>\n",
       "      <td>0.700875</td>\n",
       "      <td>-1.227981</td>\n",
       "    </tr>\n",
       "    <tr>\n",
       "      <th>2024-01-06</th>\n",
       "      <td>-0.591437</td>\n",
       "      <td>1.398511</td>\n",
       "      <td>-1.373075</td>\n",
       "      <td>-2.223226</td>\n",
       "    </tr>\n",
       "  </tbody>\n",
       "</table>\n",
       "</div>"
      ],
      "text/plain": [
       "                   A         B         C         D\n",
       "2024-01-03 -0.688645 -0.880864  1.638330 -1.953718\n",
       "2024-01-02 -1.257618 -0.554829 -0.288035 -1.308854\n",
       "2024-01-05  1.243429 -0.134667  0.015801 -0.720147\n",
       "2024-01-01 -1.815900 -0.005056  1.051223 -0.413009\n",
       "2024-01-04 -0.264555  0.151149  0.700875 -1.227981\n",
       "2024-01-06 -0.591437  1.398511 -1.373075 -2.223226"
      ]
     },
     "execution_count": 32,
     "metadata": {},
     "output_type": "execute_result"
    }
   ],
   "source": [
    "df.sort_values(by=\"B\")"
   ]
  },
  {
   "cell_type": "markdown",
   "id": "3869790a",
   "metadata": {},
   "source": [
    "## Selection"
   ]
  },
  {
   "cell_type": "code",
   "execution_count": 33,
   "id": "7ef9b815",
   "metadata": {},
   "outputs": [
    {
     "data": {
      "text/html": [
       "<div>\n",
       "<style scoped>\n",
       "    .dataframe tbody tr th:only-of-type {\n",
       "        vertical-align: middle;\n",
       "    }\n",
       "\n",
       "    .dataframe tbody tr th {\n",
       "        vertical-align: top;\n",
       "    }\n",
       "\n",
       "    .dataframe thead th {\n",
       "        text-align: right;\n",
       "    }\n",
       "</style>\n",
       "<table border=\"1\" class=\"dataframe\">\n",
       "  <thead>\n",
       "    <tr style=\"text-align: right;\">\n",
       "      <th></th>\n",
       "      <th>A</th>\n",
       "      <th>B</th>\n",
       "      <th>C</th>\n",
       "      <th>D</th>\n",
       "    </tr>\n",
       "  </thead>\n",
       "  <tbody>\n",
       "    <tr>\n",
       "      <th>2024-01-01</th>\n",
       "      <td>-1.815900</td>\n",
       "      <td>-0.005056</td>\n",
       "      <td>1.051223</td>\n",
       "      <td>-0.413009</td>\n",
       "    </tr>\n",
       "    <tr>\n",
       "      <th>2024-01-02</th>\n",
       "      <td>-1.257618</td>\n",
       "      <td>-0.554829</td>\n",
       "      <td>-0.288035</td>\n",
       "      <td>-1.308854</td>\n",
       "    </tr>\n",
       "    <tr>\n",
       "      <th>2024-01-03</th>\n",
       "      <td>-0.688645</td>\n",
       "      <td>-0.880864</td>\n",
       "      <td>1.638330</td>\n",
       "      <td>-1.953718</td>\n",
       "    </tr>\n",
       "  </tbody>\n",
       "</table>\n",
       "</div>"
      ],
      "text/plain": [
       "                   A         B         C         D\n",
       "2024-01-01 -1.815900 -0.005056  1.051223 -0.413009\n",
       "2024-01-02 -1.257618 -0.554829 -0.288035 -1.308854\n",
       "2024-01-03 -0.688645 -0.880864  1.638330 -1.953718"
      ]
     },
     "execution_count": 33,
     "metadata": {},
     "output_type": "execute_result"
    }
   ],
   "source": [
    "df[0:3] # exclude index=3"
   ]
  },
  {
   "cell_type": "code",
   "execution_count": 34,
   "id": "1ac3c958",
   "metadata": {},
   "outputs": [
    {
     "data": {
      "text/plain": [
       "2024-01-01   -1.815900\n",
       "2024-01-02   -1.257618\n",
       "2024-01-03   -0.688645\n",
       "2024-01-04   -0.264555\n",
       "2024-01-05    1.243429\n",
       "2024-01-06   -0.591437\n",
       "Freq: D, Name: A, dtype: float64"
      ]
     },
     "execution_count": 34,
     "metadata": {},
     "output_type": "execute_result"
    }
   ],
   "source": [
    "df[\"A\"]"
   ]
  },
  {
   "cell_type": "markdown",
   "id": "3bb0c4d3",
   "metadata": {},
   "source": [
    "## Selection by Label"
   ]
  },
  {
   "cell_type": "code",
   "execution_count": 35,
   "id": "c908ca57",
   "metadata": {},
   "outputs": [
    {
     "data": {
      "text/plain": [
       "A   -1.815900\n",
       "B   -0.005056\n",
       "C    1.051223\n",
       "D   -0.413009\n",
       "Name: 2024-01-01 00:00:00, dtype: float64"
      ]
     },
     "execution_count": 35,
     "metadata": {},
     "output_type": "execute_result"
    }
   ],
   "source": [
    "df.loc[dates[0]]"
   ]
  },
  {
   "cell_type": "code",
   "execution_count": 40,
   "id": "de3c0598",
   "metadata": {},
   "outputs": [
    {
     "data": {
      "text/html": [
       "<div>\n",
       "<style scoped>\n",
       "    .dataframe tbody tr th:only-of-type {\n",
       "        vertical-align: middle;\n",
       "    }\n",
       "\n",
       "    .dataframe tbody tr th {\n",
       "        vertical-align: top;\n",
       "    }\n",
       "\n",
       "    .dataframe thead th {\n",
       "        text-align: right;\n",
       "    }\n",
       "</style>\n",
       "<table border=\"1\" class=\"dataframe\">\n",
       "  <thead>\n",
       "    <tr style=\"text-align: right;\">\n",
       "      <th></th>\n",
       "      <th>A</th>\n",
       "      <th>B</th>\n",
       "    </tr>\n",
       "  </thead>\n",
       "  <tbody>\n",
       "    <tr>\n",
       "      <th>2024-01-02</th>\n",
       "      <td>-1.257618</td>\n",
       "      <td>-0.554829</td>\n",
       "    </tr>\n",
       "    <tr>\n",
       "      <th>2024-01-03</th>\n",
       "      <td>-0.688645</td>\n",
       "      <td>-0.880864</td>\n",
       "    </tr>\n",
       "    <tr>\n",
       "      <th>2024-01-04</th>\n",
       "      <td>-0.264555</td>\n",
       "      <td>0.151149</td>\n",
       "    </tr>\n",
       "  </tbody>\n",
       "</table>\n",
       "</div>"
      ],
      "text/plain": [
       "                   A         B\n",
       "2024-01-02 -1.257618 -0.554829\n",
       "2024-01-03 -0.688645 -0.880864\n",
       "2024-01-04 -0.264555  0.151149"
      ]
     },
     "execution_count": 40,
     "metadata": {},
     "output_type": "execute_result"
    }
   ],
   "source": [
    "df.loc[:, ['A', 'B']]\n",
    "df.loc[\"20240102\":\"20240104\", [\"A\", \"B\"]]\n"
   ]
  },
  {
   "cell_type": "code",
   "execution_count": 42,
   "id": "381e3905",
   "metadata": {},
   "outputs": [
    {
     "data": {
      "text/plain": [
       "-1.815900257298753"
      ]
     },
     "execution_count": 42,
     "metadata": {},
     "output_type": "execute_result"
    }
   ],
   "source": [
    "df.at[dates[0], \"A\"]"
   ]
  },
  {
   "cell_type": "markdown",
   "id": "fcdf445b",
   "metadata": {},
   "source": [
    "## Selection by position"
   ]
  },
  {
   "cell_type": "code",
   "execution_count": 43,
   "id": "c03b21dd",
   "metadata": {},
   "outputs": [
    {
     "data": {
      "text/plain": [
       "A   -0.264555\n",
       "B    0.151149\n",
       "C    0.700875\n",
       "D   -1.227981\n",
       "Name: 2024-01-04 00:00:00, dtype: float64"
      ]
     },
     "execution_count": 43,
     "metadata": {},
     "output_type": "execute_result"
    }
   ],
   "source": [
    "df.iloc[3] #ROW"
   ]
  },
  {
   "cell_type": "code",
   "execution_count": 46,
   "id": "60caf541",
   "metadata": {},
   "outputs": [
    {
     "data": {
      "text/html": [
       "<div>\n",
       "<style scoped>\n",
       "    .dataframe tbody tr th:only-of-type {\n",
       "        vertical-align: middle;\n",
       "    }\n",
       "\n",
       "    .dataframe tbody tr th {\n",
       "        vertical-align: top;\n",
       "    }\n",
       "\n",
       "    .dataframe thead th {\n",
       "        text-align: right;\n",
       "    }\n",
       "</style>\n",
       "<table border=\"1\" class=\"dataframe\">\n",
       "  <thead>\n",
       "    <tr style=\"text-align: right;\">\n",
       "      <th></th>\n",
       "      <th>A</th>\n",
       "      <th>B</th>\n",
       "    </tr>\n",
       "  </thead>\n",
       "  <tbody>\n",
       "    <tr>\n",
       "      <th>2024-01-04</th>\n",
       "      <td>-0.264555</td>\n",
       "      <td>0.151149</td>\n",
       "    </tr>\n",
       "    <tr>\n",
       "      <th>2024-01-05</th>\n",
       "      <td>1.243429</td>\n",
       "      <td>-0.134667</td>\n",
       "    </tr>\n",
       "  </tbody>\n",
       "</table>\n",
       "</div>"
      ],
      "text/plain": [
       "                   A         B\n",
       "2024-01-04 -0.264555  0.151149\n",
       "2024-01-05  1.243429 -0.134667"
      ]
     },
     "execution_count": 46,
     "metadata": {},
     "output_type": "execute_result"
    }
   ],
   "source": [
    "df.iloc[3:5, 0:2]"
   ]
  },
  {
   "cell_type": "code",
   "execution_count": 48,
   "id": "dd74080a",
   "metadata": {},
   "outputs": [
    {
     "data": {
      "text/html": [
       "<div>\n",
       "<style scoped>\n",
       "    .dataframe tbody tr th:only-of-type {\n",
       "        vertical-align: middle;\n",
       "    }\n",
       "\n",
       "    .dataframe tbody tr th {\n",
       "        vertical-align: top;\n",
       "    }\n",
       "\n",
       "    .dataframe thead th {\n",
       "        text-align: right;\n",
       "    }\n",
       "</style>\n",
       "<table border=\"1\" class=\"dataframe\">\n",
       "  <thead>\n",
       "    <tr style=\"text-align: right;\">\n",
       "      <th></th>\n",
       "      <th>A</th>\n",
       "      <th>C</th>\n",
       "    </tr>\n",
       "  </thead>\n",
       "  <tbody>\n",
       "    <tr>\n",
       "      <th>2024-01-02</th>\n",
       "      <td>-1.257618</td>\n",
       "      <td>-0.288035</td>\n",
       "    </tr>\n",
       "    <tr>\n",
       "      <th>2024-01-03</th>\n",
       "      <td>-0.688645</td>\n",
       "      <td>1.638330</td>\n",
       "    </tr>\n",
       "    <tr>\n",
       "      <th>2024-01-05</th>\n",
       "      <td>1.243429</td>\n",
       "      <td>0.015801</td>\n",
       "    </tr>\n",
       "  </tbody>\n",
       "</table>\n",
       "</div>"
      ],
      "text/plain": [
       "                   A         C\n",
       "2024-01-02 -1.257618 -0.288035\n",
       "2024-01-03 -0.688645  1.638330\n",
       "2024-01-05  1.243429  0.015801"
      ]
     },
     "execution_count": 48,
     "metadata": {},
     "output_type": "execute_result"
    }
   ],
   "source": [
    "df.iloc[[1,2,4], [0,2]]"
   ]
  },
  {
   "cell_type": "code",
   "execution_count": 49,
   "id": "bce23d94",
   "metadata": {},
   "outputs": [
    {
     "data": {
      "text/html": [
       "<div>\n",
       "<style scoped>\n",
       "    .dataframe tbody tr th:only-of-type {\n",
       "        vertical-align: middle;\n",
       "    }\n",
       "\n",
       "    .dataframe tbody tr th {\n",
       "        vertical-align: top;\n",
       "    }\n",
       "\n",
       "    .dataframe thead th {\n",
       "        text-align: right;\n",
       "    }\n",
       "</style>\n",
       "<table border=\"1\" class=\"dataframe\">\n",
       "  <thead>\n",
       "    <tr style=\"text-align: right;\">\n",
       "      <th></th>\n",
       "      <th>B</th>\n",
       "    </tr>\n",
       "  </thead>\n",
       "  <tbody>\n",
       "    <tr>\n",
       "      <th>2024-01-01</th>\n",
       "      <td>-0.005056</td>\n",
       "    </tr>\n",
       "    <tr>\n",
       "      <th>2024-01-02</th>\n",
       "      <td>-0.554829</td>\n",
       "    </tr>\n",
       "    <tr>\n",
       "      <th>2024-01-03</th>\n",
       "      <td>-0.880864</td>\n",
       "    </tr>\n",
       "    <tr>\n",
       "      <th>2024-01-04</th>\n",
       "      <td>0.151149</td>\n",
       "    </tr>\n",
       "    <tr>\n",
       "      <th>2024-01-05</th>\n",
       "      <td>-0.134667</td>\n",
       "    </tr>\n",
       "    <tr>\n",
       "      <th>2024-01-06</th>\n",
       "      <td>1.398511</td>\n",
       "    </tr>\n",
       "  </tbody>\n",
       "</table>\n",
       "</div>"
      ],
      "text/plain": [
       "                   B\n",
       "2024-01-01 -0.005056\n",
       "2024-01-02 -0.554829\n",
       "2024-01-03 -0.880864\n",
       "2024-01-04  0.151149\n",
       "2024-01-05 -0.134667\n",
       "2024-01-06  1.398511"
      ]
     },
     "execution_count": 49,
     "metadata": {},
     "output_type": "execute_result"
    }
   ],
   "source": [
    "df.iloc[:, [1]]"
   ]
  },
  {
   "cell_type": "code",
   "execution_count": 51,
   "id": "97d1a860",
   "metadata": {},
   "outputs": [
    {
     "data": {
      "text/plain": [
       "-0.5548285669494348"
      ]
     },
     "execution_count": 51,
     "metadata": {},
     "output_type": "execute_result"
    }
   ],
   "source": [
    "df.iat[1,1]"
   ]
  },
  {
   "cell_type": "markdown",
   "id": "6bfbfb1b",
   "metadata": {},
   "source": [
    "## Boolean Indexing"
   ]
  },
  {
   "cell_type": "code",
   "execution_count": 56,
   "id": "b7911ed3",
   "metadata": {},
   "outputs": [
    {
     "data": {
      "text/html": [
       "<div>\n",
       "<style scoped>\n",
       "    .dataframe tbody tr th:only-of-type {\n",
       "        vertical-align: middle;\n",
       "    }\n",
       "\n",
       "    .dataframe tbody tr th {\n",
       "        vertical-align: top;\n",
       "    }\n",
       "\n",
       "    .dataframe thead th {\n",
       "        text-align: right;\n",
       "    }\n",
       "</style>\n",
       "<table border=\"1\" class=\"dataframe\">\n",
       "  <thead>\n",
       "    <tr style=\"text-align: right;\">\n",
       "      <th></th>\n",
       "      <th>A</th>\n",
       "      <th>B</th>\n",
       "      <th>C</th>\n",
       "      <th>D</th>\n",
       "    </tr>\n",
       "  </thead>\n",
       "  <tbody>\n",
       "    <tr>\n",
       "      <th>2024-01-05</th>\n",
       "      <td>1.243429</td>\n",
       "      <td>-0.134667</td>\n",
       "      <td>0.015801</td>\n",
       "      <td>-0.720147</td>\n",
       "    </tr>\n",
       "  </tbody>\n",
       "</table>\n",
       "</div>"
      ],
      "text/plain": [
       "                   A         B         C         D\n",
       "2024-01-05  1.243429 -0.134667  0.015801 -0.720147"
      ]
     },
     "execution_count": 56,
     "metadata": {},
     "output_type": "execute_result"
    }
   ],
   "source": [
    "df[df['A']>0]"
   ]
  },
  {
   "cell_type": "code",
   "execution_count": 58,
   "id": "69106e5a",
   "metadata": {},
   "outputs": [
    {
     "data": {
      "text/html": [
       "<div>\n",
       "<style scoped>\n",
       "    .dataframe tbody tr th:only-of-type {\n",
       "        vertical-align: middle;\n",
       "    }\n",
       "\n",
       "    .dataframe tbody tr th {\n",
       "        vertical-align: top;\n",
       "    }\n",
       "\n",
       "    .dataframe thead th {\n",
       "        text-align: right;\n",
       "    }\n",
       "</style>\n",
       "<table border=\"1\" class=\"dataframe\">\n",
       "  <thead>\n",
       "    <tr style=\"text-align: right;\">\n",
       "      <th></th>\n",
       "      <th>A</th>\n",
       "      <th>B</th>\n",
       "      <th>C</th>\n",
       "      <th>D</th>\n",
       "    </tr>\n",
       "  </thead>\n",
       "  <tbody>\n",
       "    <tr>\n",
       "      <th>2024-01-01</th>\n",
       "      <td>NaN</td>\n",
       "      <td>NaN</td>\n",
       "      <td>1.051223</td>\n",
       "      <td>NaN</td>\n",
       "    </tr>\n",
       "    <tr>\n",
       "      <th>2024-01-02</th>\n",
       "      <td>NaN</td>\n",
       "      <td>NaN</td>\n",
       "      <td>NaN</td>\n",
       "      <td>NaN</td>\n",
       "    </tr>\n",
       "    <tr>\n",
       "      <th>2024-01-03</th>\n",
       "      <td>NaN</td>\n",
       "      <td>NaN</td>\n",
       "      <td>1.638330</td>\n",
       "      <td>NaN</td>\n",
       "    </tr>\n",
       "    <tr>\n",
       "      <th>2024-01-04</th>\n",
       "      <td>NaN</td>\n",
       "      <td>0.151149</td>\n",
       "      <td>0.700875</td>\n",
       "      <td>NaN</td>\n",
       "    </tr>\n",
       "    <tr>\n",
       "      <th>2024-01-05</th>\n",
       "      <td>1.243429</td>\n",
       "      <td>NaN</td>\n",
       "      <td>0.015801</td>\n",
       "      <td>NaN</td>\n",
       "    </tr>\n",
       "    <tr>\n",
       "      <th>2024-01-06</th>\n",
       "      <td>NaN</td>\n",
       "      <td>1.398511</td>\n",
       "      <td>NaN</td>\n",
       "      <td>NaN</td>\n",
       "    </tr>\n",
       "  </tbody>\n",
       "</table>\n",
       "</div>"
      ],
      "text/plain": [
       "                   A         B         C   D\n",
       "2024-01-01       NaN       NaN  1.051223 NaN\n",
       "2024-01-02       NaN       NaN       NaN NaN\n",
       "2024-01-03       NaN       NaN  1.638330 NaN\n",
       "2024-01-04       NaN  0.151149  0.700875 NaN\n",
       "2024-01-05  1.243429       NaN  0.015801 NaN\n",
       "2024-01-06       NaN  1.398511       NaN NaN"
      ]
     },
     "execution_count": 58,
     "metadata": {},
     "output_type": "execute_result"
    }
   ],
   "source": [
    "df[df>0]"
   ]
  },
  {
   "cell_type": "code",
   "execution_count": 59,
   "id": "161bbda1",
   "metadata": {},
   "outputs": [
    {
     "data": {
      "text/html": [
       "<div>\n",
       "<style scoped>\n",
       "    .dataframe tbody tr th:only-of-type {\n",
       "        vertical-align: middle;\n",
       "    }\n",
       "\n",
       "    .dataframe tbody tr th {\n",
       "        vertical-align: top;\n",
       "    }\n",
       "\n",
       "    .dataframe thead th {\n",
       "        text-align: right;\n",
       "    }\n",
       "</style>\n",
       "<table border=\"1\" class=\"dataframe\">\n",
       "  <thead>\n",
       "    <tr style=\"text-align: right;\">\n",
       "      <th></th>\n",
       "      <th>A</th>\n",
       "      <th>B</th>\n",
       "      <th>C</th>\n",
       "      <th>D</th>\n",
       "      <th>E</th>\n",
       "    </tr>\n",
       "  </thead>\n",
       "  <tbody>\n",
       "    <tr>\n",
       "      <th>2024-01-03</th>\n",
       "      <td>-0.688645</td>\n",
       "      <td>-0.880864</td>\n",
       "      <td>1.638330</td>\n",
       "      <td>-1.953718</td>\n",
       "      <td>two</td>\n",
       "    </tr>\n",
       "    <tr>\n",
       "      <th>2024-01-05</th>\n",
       "      <td>1.243429</td>\n",
       "      <td>-0.134667</td>\n",
       "      <td>0.015801</td>\n",
       "      <td>-0.720147</td>\n",
       "      <td>four</td>\n",
       "    </tr>\n",
       "  </tbody>\n",
       "</table>\n",
       "</div>"
      ],
      "text/plain": [
       "                   A         B         C         D     E\n",
       "2024-01-03 -0.688645 -0.880864  1.638330 -1.953718   two\n",
       "2024-01-05  1.243429 -0.134667  0.015801 -0.720147  four"
      ]
     },
     "execution_count": 59,
     "metadata": {},
     "output_type": "execute_result"
    }
   ],
   "source": [
    "df2=df.copy()\n",
    "df2[\"E\"]= [\"one\", \"one\", \"two\", \"three\", \"four\", \"three\"]\n",
    "df2[df2[\"E\"].isin([\"two\", \"four\"])]"
   ]
  },
  {
   "cell_type": "code",
   "execution_count": 60,
   "id": "2ad36eaa",
   "metadata": {},
   "outputs": [
    {
     "data": {
      "text/plain": [
       "2024-01-01    False\n",
       "2024-01-02    False\n",
       "2024-01-03     True\n",
       "2024-01-04    False\n",
       "2024-01-05     True\n",
       "2024-01-06    False\n",
       "Freq: D, Name: E, dtype: bool"
      ]
     },
     "execution_count": 60,
     "metadata": {},
     "output_type": "execute_result"
    }
   ],
   "source": [
    "df2[\"E\"].isin([\"two\", \"four\"])"
   ]
  },
  {
   "cell_type": "markdown",
   "id": "26e0dace",
   "metadata": {},
   "source": [
    "## Setting"
   ]
  },
  {
   "cell_type": "code",
   "execution_count": 74,
   "id": "c3be86bb",
   "metadata": {},
   "outputs": [
    {
     "data": {
      "text/html": [
       "<div>\n",
       "<style scoped>\n",
       "    .dataframe tbody tr th:only-of-type {\n",
       "        vertical-align: middle;\n",
       "    }\n",
       "\n",
       "    .dataframe tbody tr th {\n",
       "        vertical-align: top;\n",
       "    }\n",
       "\n",
       "    .dataframe thead th {\n",
       "        text-align: right;\n",
       "    }\n",
       "</style>\n",
       "<table border=\"1\" class=\"dataframe\">\n",
       "  <thead>\n",
       "    <tr style=\"text-align: right;\">\n",
       "      <th></th>\n",
       "      <th>A</th>\n",
       "      <th>B</th>\n",
       "      <th>C</th>\n",
       "      <th>D</th>\n",
       "      <th>F</th>\n",
       "    </tr>\n",
       "  </thead>\n",
       "  <tbody>\n",
       "    <tr>\n",
       "      <th>2024-01-01</th>\n",
       "      <td>0.000000</td>\n",
       "      <td>-0.005056</td>\n",
       "      <td>1.051223</td>\n",
       "      <td>-0.413009</td>\n",
       "      <td>1</td>\n",
       "    </tr>\n",
       "    <tr>\n",
       "      <th>2024-01-02</th>\n",
       "      <td>-1.257618</td>\n",
       "      <td>-0.554829</td>\n",
       "      <td>-0.288035</td>\n",
       "      <td>-1.308854</td>\n",
       "      <td>2</td>\n",
       "    </tr>\n",
       "    <tr>\n",
       "      <th>2024-01-03</th>\n",
       "      <td>-0.688645</td>\n",
       "      <td>-0.880864</td>\n",
       "      <td>1.638330</td>\n",
       "      <td>-1.953718</td>\n",
       "      <td>3</td>\n",
       "    </tr>\n",
       "    <tr>\n",
       "      <th>2024-01-04</th>\n",
       "      <td>-0.264555</td>\n",
       "      <td>0.151149</td>\n",
       "      <td>0.700875</td>\n",
       "      <td>-1.227981</td>\n",
       "      <td>4</td>\n",
       "    </tr>\n",
       "    <tr>\n",
       "      <th>2024-01-05</th>\n",
       "      <td>1.243429</td>\n",
       "      <td>-0.134667</td>\n",
       "      <td>0.015801</td>\n",
       "      <td>-0.720147</td>\n",
       "      <td>5</td>\n",
       "    </tr>\n",
       "    <tr>\n",
       "      <th>2024-01-06</th>\n",
       "      <td>-0.591437</td>\n",
       "      <td>1.398511</td>\n",
       "      <td>-1.373075</td>\n",
       "      <td>-2.223226</td>\n",
       "      <td>6</td>\n",
       "    </tr>\n",
       "  </tbody>\n",
       "</table>\n",
       "</div>"
      ],
      "text/plain": [
       "                   A         B         C         D  F\n",
       "2024-01-01  0.000000 -0.005056  1.051223 -0.413009  1\n",
       "2024-01-02 -1.257618 -0.554829 -0.288035 -1.308854  2\n",
       "2024-01-03 -0.688645 -0.880864  1.638330 -1.953718  3\n",
       "2024-01-04 -0.264555  0.151149  0.700875 -1.227981  4\n",
       "2024-01-05  1.243429 -0.134667  0.015801 -0.720147  5\n",
       "2024-01-06 -0.591437  1.398511 -1.373075 -2.223226  6"
      ]
     },
     "execution_count": 74,
     "metadata": {},
     "output_type": "execute_result"
    }
   ],
   "source": [
    "s1= pd.Series([1,2,3,4,5,6], index= pd.date_range(\"20240101\", periods=6))\n",
    "s1\n",
    "df[\"F\"] = s1\n",
    "df"
   ]
  },
  {
   "cell_type": "code",
   "execution_count": 75,
   "id": "bdd8a98f",
   "metadata": {},
   "outputs": [
    {
     "data": {
      "text/html": [
       "<div>\n",
       "<style scoped>\n",
       "    .dataframe tbody tr th:only-of-type {\n",
       "        vertical-align: middle;\n",
       "    }\n",
       "\n",
       "    .dataframe tbody tr th {\n",
       "        vertical-align: top;\n",
       "    }\n",
       "\n",
       "    .dataframe thead th {\n",
       "        text-align: right;\n",
       "    }\n",
       "</style>\n",
       "<table border=\"1\" class=\"dataframe\">\n",
       "  <thead>\n",
       "    <tr style=\"text-align: right;\">\n",
       "      <th></th>\n",
       "      <th>A</th>\n",
       "      <th>B</th>\n",
       "      <th>C</th>\n",
       "      <th>D</th>\n",
       "      <th>F</th>\n",
       "    </tr>\n",
       "  </thead>\n",
       "  <tbody>\n",
       "    <tr>\n",
       "      <th>2024-01-01</th>\n",
       "      <td>0.000000</td>\n",
       "      <td>-0.005056</td>\n",
       "      <td>1.051223</td>\n",
       "      <td>-0.413009</td>\n",
       "      <td>1</td>\n",
       "    </tr>\n",
       "    <tr>\n",
       "      <th>2024-01-02</th>\n",
       "      <td>-1.257618</td>\n",
       "      <td>-0.554829</td>\n",
       "      <td>-0.288035</td>\n",
       "      <td>-1.308854</td>\n",
       "      <td>2</td>\n",
       "    </tr>\n",
       "    <tr>\n",
       "      <th>2024-01-03</th>\n",
       "      <td>-0.688645</td>\n",
       "      <td>-0.880864</td>\n",
       "      <td>1.638330</td>\n",
       "      <td>-1.953718</td>\n",
       "      <td>3</td>\n",
       "    </tr>\n",
       "    <tr>\n",
       "      <th>2024-01-04</th>\n",
       "      <td>-0.264555</td>\n",
       "      <td>0.151149</td>\n",
       "      <td>0.700875</td>\n",
       "      <td>-1.227981</td>\n",
       "      <td>4</td>\n",
       "    </tr>\n",
       "    <tr>\n",
       "      <th>2024-01-05</th>\n",
       "      <td>1.243429</td>\n",
       "      <td>-0.134667</td>\n",
       "      <td>0.015801</td>\n",
       "      <td>-0.720147</td>\n",
       "      <td>5</td>\n",
       "    </tr>\n",
       "    <tr>\n",
       "      <th>2024-01-06</th>\n",
       "      <td>-0.591437</td>\n",
       "      <td>1.398511</td>\n",
       "      <td>-1.373075</td>\n",
       "      <td>-2.223226</td>\n",
       "      <td>6</td>\n",
       "    </tr>\n",
       "  </tbody>\n",
       "</table>\n",
       "</div>"
      ],
      "text/plain": [
       "                   A         B         C         D  F\n",
       "2024-01-01  0.000000 -0.005056  1.051223 -0.413009  1\n",
       "2024-01-02 -1.257618 -0.554829 -0.288035 -1.308854  2\n",
       "2024-01-03 -0.688645 -0.880864  1.638330 -1.953718  3\n",
       "2024-01-04 -0.264555  0.151149  0.700875 -1.227981  4\n",
       "2024-01-05  1.243429 -0.134667  0.015801 -0.720147  5\n",
       "2024-01-06 -0.591437  1.398511 -1.373075 -2.223226  6"
      ]
     },
     "execution_count": 75,
     "metadata": {},
     "output_type": "execute_result"
    }
   ],
   "source": [
    "df.at[dates[0], \"A\"]=0\n",
    "df"
   ]
  },
  {
   "cell_type": "code",
   "execution_count": 77,
   "id": "6fdacc34",
   "metadata": {},
   "outputs": [
    {
     "data": {
      "text/html": [
       "<div>\n",
       "<style scoped>\n",
       "    .dataframe tbody tr th:only-of-type {\n",
       "        vertical-align: middle;\n",
       "    }\n",
       "\n",
       "    .dataframe tbody tr th {\n",
       "        vertical-align: top;\n",
       "    }\n",
       "\n",
       "    .dataframe thead th {\n",
       "        text-align: right;\n",
       "    }\n",
       "</style>\n",
       "<table border=\"1\" class=\"dataframe\">\n",
       "  <thead>\n",
       "    <tr style=\"text-align: right;\">\n",
       "      <th></th>\n",
       "      <th>A</th>\n",
       "      <th>B</th>\n",
       "      <th>C</th>\n",
       "      <th>D</th>\n",
       "      <th>F</th>\n",
       "    </tr>\n",
       "  </thead>\n",
       "  <tbody>\n",
       "    <tr>\n",
       "      <th>2024-01-01</th>\n",
       "      <td>0.000000</td>\n",
       "      <td>-0.005056</td>\n",
       "      <td>1.051223</td>\n",
       "      <td>5.0</td>\n",
       "      <td>1</td>\n",
       "    </tr>\n",
       "    <tr>\n",
       "      <th>2024-01-02</th>\n",
       "      <td>-1.257618</td>\n",
       "      <td>-0.554829</td>\n",
       "      <td>-0.288035</td>\n",
       "      <td>5.0</td>\n",
       "      <td>2</td>\n",
       "    </tr>\n",
       "    <tr>\n",
       "      <th>2024-01-03</th>\n",
       "      <td>-0.688645</td>\n",
       "      <td>-0.880864</td>\n",
       "      <td>1.638330</td>\n",
       "      <td>5.0</td>\n",
       "      <td>3</td>\n",
       "    </tr>\n",
       "    <tr>\n",
       "      <th>2024-01-04</th>\n",
       "      <td>-0.264555</td>\n",
       "      <td>0.151149</td>\n",
       "      <td>0.700875</td>\n",
       "      <td>5.0</td>\n",
       "      <td>4</td>\n",
       "    </tr>\n",
       "    <tr>\n",
       "      <th>2024-01-05</th>\n",
       "      <td>1.243429</td>\n",
       "      <td>-0.134667</td>\n",
       "      <td>0.015801</td>\n",
       "      <td>5.0</td>\n",
       "      <td>5</td>\n",
       "    </tr>\n",
       "    <tr>\n",
       "      <th>2024-01-06</th>\n",
       "      <td>-0.591437</td>\n",
       "      <td>1.398511</td>\n",
       "      <td>-1.373075</td>\n",
       "      <td>5.0</td>\n",
       "      <td>6</td>\n",
       "    </tr>\n",
       "  </tbody>\n",
       "</table>\n",
       "</div>"
      ],
      "text/plain": [
       "                   A         B         C    D  F\n",
       "2024-01-01  0.000000 -0.005056  1.051223  5.0  1\n",
       "2024-01-02 -1.257618 -0.554829 -0.288035  5.0  2\n",
       "2024-01-03 -0.688645 -0.880864  1.638330  5.0  3\n",
       "2024-01-04 -0.264555  0.151149  0.700875  5.0  4\n",
       "2024-01-05  1.243429 -0.134667  0.015801  5.0  5\n",
       "2024-01-06 -0.591437  1.398511 -1.373075  5.0  6"
      ]
     },
     "execution_count": 77,
     "metadata": {},
     "output_type": "execute_result"
    }
   ],
   "source": [
    "df.loc[:, \"D\"] = np.array([5] * len(df))\n",
    "df"
   ]
  },
  {
   "cell_type": "code",
   "execution_count": 79,
   "id": "817af024",
   "metadata": {},
   "outputs": [
    {
     "data": {
      "text/html": [
       "<div>\n",
       "<style scoped>\n",
       "    .dataframe tbody tr th:only-of-type {\n",
       "        vertical-align: middle;\n",
       "    }\n",
       "\n",
       "    .dataframe tbody tr th {\n",
       "        vertical-align: top;\n",
       "    }\n",
       "\n",
       "    .dataframe thead th {\n",
       "        text-align: right;\n",
       "    }\n",
       "</style>\n",
       "<table border=\"1\" class=\"dataframe\">\n",
       "  <thead>\n",
       "    <tr style=\"text-align: right;\">\n",
       "      <th></th>\n",
       "      <th>A</th>\n",
       "      <th>B</th>\n",
       "      <th>C</th>\n",
       "      <th>D</th>\n",
       "      <th>F</th>\n",
       "    </tr>\n",
       "  </thead>\n",
       "  <tbody>\n",
       "    <tr>\n",
       "      <th>2024-01-01</th>\n",
       "      <td>0.000000</td>\n",
       "      <td>-0.005056</td>\n",
       "      <td>-1.051223</td>\n",
       "      <td>-5.0</td>\n",
       "      <td>-1</td>\n",
       "    </tr>\n",
       "    <tr>\n",
       "      <th>2024-01-02</th>\n",
       "      <td>-1.257618</td>\n",
       "      <td>-0.554829</td>\n",
       "      <td>-0.288035</td>\n",
       "      <td>-5.0</td>\n",
       "      <td>-2</td>\n",
       "    </tr>\n",
       "    <tr>\n",
       "      <th>2024-01-03</th>\n",
       "      <td>-0.688645</td>\n",
       "      <td>-0.880864</td>\n",
       "      <td>-1.638330</td>\n",
       "      <td>-5.0</td>\n",
       "      <td>-3</td>\n",
       "    </tr>\n",
       "    <tr>\n",
       "      <th>2024-01-04</th>\n",
       "      <td>-0.264555</td>\n",
       "      <td>-0.151149</td>\n",
       "      <td>-0.700875</td>\n",
       "      <td>-5.0</td>\n",
       "      <td>-4</td>\n",
       "    </tr>\n",
       "    <tr>\n",
       "      <th>2024-01-05</th>\n",
       "      <td>-1.243429</td>\n",
       "      <td>-0.134667</td>\n",
       "      <td>-0.015801</td>\n",
       "      <td>-5.0</td>\n",
       "      <td>-5</td>\n",
       "    </tr>\n",
       "    <tr>\n",
       "      <th>2024-01-06</th>\n",
       "      <td>-0.591437</td>\n",
       "      <td>-1.398511</td>\n",
       "      <td>-1.373075</td>\n",
       "      <td>-5.0</td>\n",
       "      <td>-6</td>\n",
       "    </tr>\n",
       "  </tbody>\n",
       "</table>\n",
       "</div>"
      ],
      "text/plain": [
       "                   A         B         C    D  F\n",
       "2024-01-01  0.000000 -0.005056 -1.051223 -5.0 -1\n",
       "2024-01-02 -1.257618 -0.554829 -0.288035 -5.0 -2\n",
       "2024-01-03 -0.688645 -0.880864 -1.638330 -5.0 -3\n",
       "2024-01-04 -0.264555 -0.151149 -0.700875 -5.0 -4\n",
       "2024-01-05 -1.243429 -0.134667 -0.015801 -5.0 -5\n",
       "2024-01-06 -0.591437 -1.398511 -1.373075 -5.0 -6"
      ]
     },
     "execution_count": 79,
     "metadata": {},
     "output_type": "execute_result"
    }
   ],
   "source": [
    "df2=df.copy()\n",
    "df2[df2>0]= -df2\n",
    "df2"
   ]
  },
  {
   "cell_type": "markdown",
   "id": "2ba1171e",
   "metadata": {},
   "source": [
    "## Missing data"
   ]
  },
  {
   "cell_type": "code",
   "execution_count": 96,
   "id": "08c1faaa",
   "metadata": {},
   "outputs": [
    {
     "data": {
      "text/html": [
       "<div>\n",
       "<style scoped>\n",
       "    .dataframe tbody tr th:only-of-type {\n",
       "        vertical-align: middle;\n",
       "    }\n",
       "\n",
       "    .dataframe tbody tr th {\n",
       "        vertical-align: top;\n",
       "    }\n",
       "\n",
       "    .dataframe thead th {\n",
       "        text-align: right;\n",
       "    }\n",
       "</style>\n",
       "<table border=\"1\" class=\"dataframe\">\n",
       "  <thead>\n",
       "    <tr style=\"text-align: right;\">\n",
       "      <th></th>\n",
       "      <th>A</th>\n",
       "      <th>B</th>\n",
       "      <th>C</th>\n",
       "      <th>D</th>\n",
       "      <th>F</th>\n",
       "      <th>E</th>\n",
       "    </tr>\n",
       "  </thead>\n",
       "  <tbody>\n",
       "    <tr>\n",
       "      <th>2024-01-01</th>\n",
       "      <td>0.000000</td>\n",
       "      <td>-0.005056</td>\n",
       "      <td>1.051223</td>\n",
       "      <td>5.0</td>\n",
       "      <td>1</td>\n",
       "      <td>NaN</td>\n",
       "    </tr>\n",
       "    <tr>\n",
       "      <th>2024-01-02</th>\n",
       "      <td>-1.257618</td>\n",
       "      <td>-0.554829</td>\n",
       "      <td>-0.288035</td>\n",
       "      <td>5.0</td>\n",
       "      <td>2</td>\n",
       "      <td>NaN</td>\n",
       "    </tr>\n",
       "    <tr>\n",
       "      <th>2024-01-03</th>\n",
       "      <td>-0.688645</td>\n",
       "      <td>-0.880864</td>\n",
       "      <td>1.638330</td>\n",
       "      <td>5.0</td>\n",
       "      <td>3</td>\n",
       "      <td>NaN</td>\n",
       "    </tr>\n",
       "    <tr>\n",
       "      <th>2024-01-04</th>\n",
       "      <td>-0.264555</td>\n",
       "      <td>0.151149</td>\n",
       "      <td>0.700875</td>\n",
       "      <td>5.0</td>\n",
       "      <td>4</td>\n",
       "      <td>NaN</td>\n",
       "    </tr>\n",
       "  </tbody>\n",
       "</table>\n",
       "</div>"
      ],
      "text/plain": [
       "                   A         B         C    D  F   E\n",
       "2024-01-01  0.000000 -0.005056  1.051223  5.0  1 NaN\n",
       "2024-01-02 -1.257618 -0.554829 -0.288035  5.0  2 NaN\n",
       "2024-01-03 -0.688645 -0.880864  1.638330  5.0  3 NaN\n",
       "2024-01-04 -0.264555  0.151149  0.700875  5.0  4 NaN"
      ]
     },
     "execution_count": 96,
     "metadata": {},
     "output_type": "execute_result"
    }
   ],
   "source": [
    "#Reindexing \n",
    "df1= df.reindex(index=dates[0:4], columns=list(df.columns)+['E'])\n",
    "df1"
   ]
  },
  {
   "cell_type": "code",
   "execution_count": 97,
   "id": "dea69bae",
   "metadata": {},
   "outputs": [
    {
     "data": {
      "text/html": [
       "<div>\n",
       "<style scoped>\n",
       "    .dataframe tbody tr th:only-of-type {\n",
       "        vertical-align: middle;\n",
       "    }\n",
       "\n",
       "    .dataframe tbody tr th {\n",
       "        vertical-align: top;\n",
       "    }\n",
       "\n",
       "    .dataframe thead th {\n",
       "        text-align: right;\n",
       "    }\n",
       "</style>\n",
       "<table border=\"1\" class=\"dataframe\">\n",
       "  <thead>\n",
       "    <tr style=\"text-align: right;\">\n",
       "      <th></th>\n",
       "      <th>A</th>\n",
       "      <th>B</th>\n",
       "      <th>C</th>\n",
       "      <th>D</th>\n",
       "      <th>F</th>\n",
       "      <th>E</th>\n",
       "    </tr>\n",
       "  </thead>\n",
       "  <tbody>\n",
       "    <tr>\n",
       "      <th>2024-01-01</th>\n",
       "      <td>0.000000</td>\n",
       "      <td>-0.005056</td>\n",
       "      <td>1.051223</td>\n",
       "      <td>5.0</td>\n",
       "      <td>1</td>\n",
       "      <td>1.0</td>\n",
       "    </tr>\n",
       "    <tr>\n",
       "      <th>2024-01-02</th>\n",
       "      <td>-1.257618</td>\n",
       "      <td>-0.554829</td>\n",
       "      <td>-0.288035</td>\n",
       "      <td>5.0</td>\n",
       "      <td>2</td>\n",
       "      <td>1.0</td>\n",
       "    </tr>\n",
       "    <tr>\n",
       "      <th>2024-01-03</th>\n",
       "      <td>-0.688645</td>\n",
       "      <td>-0.880864</td>\n",
       "      <td>1.638330</td>\n",
       "      <td>5.0</td>\n",
       "      <td>3</td>\n",
       "      <td>NaN</td>\n",
       "    </tr>\n",
       "    <tr>\n",
       "      <th>2024-01-04</th>\n",
       "      <td>-0.264555</td>\n",
       "      <td>0.151149</td>\n",
       "      <td>0.700875</td>\n",
       "      <td>5.0</td>\n",
       "      <td>4</td>\n",
       "      <td>NaN</td>\n",
       "    </tr>\n",
       "  </tbody>\n",
       "</table>\n",
       "</div>"
      ],
      "text/plain": [
       "                   A         B         C    D  F    E\n",
       "2024-01-01  0.000000 -0.005056  1.051223  5.0  1  1.0\n",
       "2024-01-02 -1.257618 -0.554829 -0.288035  5.0  2  1.0\n",
       "2024-01-03 -0.688645 -0.880864  1.638330  5.0  3  NaN\n",
       "2024-01-04 -0.264555  0.151149  0.700875  5.0  4  NaN"
      ]
     },
     "execution_count": 97,
     "metadata": {},
     "output_type": "execute_result"
    }
   ],
   "source": [
    "df1.loc[dates[0]:dates[1], \"E\"]=1\n",
    "df1"
   ]
  },
  {
   "cell_type": "code",
   "execution_count": 98,
   "id": "6b3f3660",
   "metadata": {},
   "outputs": [
    {
     "data": {
      "text/html": [
       "<div>\n",
       "<style scoped>\n",
       "    .dataframe tbody tr th:only-of-type {\n",
       "        vertical-align: middle;\n",
       "    }\n",
       "\n",
       "    .dataframe tbody tr th {\n",
       "        vertical-align: top;\n",
       "    }\n",
       "\n",
       "    .dataframe thead th {\n",
       "        text-align: right;\n",
       "    }\n",
       "</style>\n",
       "<table border=\"1\" class=\"dataframe\">\n",
       "  <thead>\n",
       "    <tr style=\"text-align: right;\">\n",
       "      <th></th>\n",
       "      <th>A</th>\n",
       "      <th>B</th>\n",
       "      <th>C</th>\n",
       "      <th>D</th>\n",
       "      <th>F</th>\n",
       "      <th>E</th>\n",
       "    </tr>\n",
       "  </thead>\n",
       "  <tbody>\n",
       "    <tr>\n",
       "      <th>2024-01-01</th>\n",
       "      <td>0.000000</td>\n",
       "      <td>-0.005056</td>\n",
       "      <td>1.051223</td>\n",
       "      <td>5.0</td>\n",
       "      <td>1</td>\n",
       "      <td>1.0</td>\n",
       "    </tr>\n",
       "    <tr>\n",
       "      <th>2024-01-02</th>\n",
       "      <td>-1.257618</td>\n",
       "      <td>-0.554829</td>\n",
       "      <td>-0.288035</td>\n",
       "      <td>5.0</td>\n",
       "      <td>2</td>\n",
       "      <td>1.0</td>\n",
       "    </tr>\n",
       "  </tbody>\n",
       "</table>\n",
       "</div>"
      ],
      "text/plain": [
       "                   A         B         C    D  F    E\n",
       "2024-01-01  0.000000 -0.005056  1.051223  5.0  1  1.0\n",
       "2024-01-02 -1.257618 -0.554829 -0.288035  5.0  2  1.0"
      ]
     },
     "execution_count": 98,
     "metadata": {},
     "output_type": "execute_result"
    }
   ],
   "source": [
    "#df.dropna()\n",
    "df1.dropna(how='any')"
   ]
  },
  {
   "cell_type": "code",
   "execution_count": 99,
   "id": "4d1a22d0",
   "metadata": {},
   "outputs": [
    {
     "data": {
      "text/html": [
       "<div>\n",
       "<style scoped>\n",
       "    .dataframe tbody tr th:only-of-type {\n",
       "        vertical-align: middle;\n",
       "    }\n",
       "\n",
       "    .dataframe tbody tr th {\n",
       "        vertical-align: top;\n",
       "    }\n",
       "\n",
       "    .dataframe thead th {\n",
       "        text-align: right;\n",
       "    }\n",
       "</style>\n",
       "<table border=\"1\" class=\"dataframe\">\n",
       "  <thead>\n",
       "    <tr style=\"text-align: right;\">\n",
       "      <th></th>\n",
       "      <th>A</th>\n",
       "      <th>B</th>\n",
       "      <th>C</th>\n",
       "      <th>D</th>\n",
       "      <th>F</th>\n",
       "      <th>E</th>\n",
       "    </tr>\n",
       "  </thead>\n",
       "  <tbody>\n",
       "    <tr>\n",
       "      <th>2024-01-01</th>\n",
       "      <td>0.000000</td>\n",
       "      <td>-0.005056</td>\n",
       "      <td>1.051223</td>\n",
       "      <td>5.0</td>\n",
       "      <td>1</td>\n",
       "      <td>1.0</td>\n",
       "    </tr>\n",
       "    <tr>\n",
       "      <th>2024-01-02</th>\n",
       "      <td>-1.257618</td>\n",
       "      <td>-0.554829</td>\n",
       "      <td>-0.288035</td>\n",
       "      <td>5.0</td>\n",
       "      <td>2</td>\n",
       "      <td>1.0</td>\n",
       "    </tr>\n",
       "    <tr>\n",
       "      <th>2024-01-03</th>\n",
       "      <td>-0.688645</td>\n",
       "      <td>-0.880864</td>\n",
       "      <td>1.638330</td>\n",
       "      <td>5.0</td>\n",
       "      <td>3</td>\n",
       "      <td>5.0</td>\n",
       "    </tr>\n",
       "    <tr>\n",
       "      <th>2024-01-04</th>\n",
       "      <td>-0.264555</td>\n",
       "      <td>0.151149</td>\n",
       "      <td>0.700875</td>\n",
       "      <td>5.0</td>\n",
       "      <td>4</td>\n",
       "      <td>5.0</td>\n",
       "    </tr>\n",
       "  </tbody>\n",
       "</table>\n",
       "</div>"
      ],
      "text/plain": [
       "                   A         B         C    D  F    E\n",
       "2024-01-01  0.000000 -0.005056  1.051223  5.0  1  1.0\n",
       "2024-01-02 -1.257618 -0.554829 -0.288035  5.0  2  1.0\n",
       "2024-01-03 -0.688645 -0.880864  1.638330  5.0  3  5.0\n",
       "2024-01-04 -0.264555  0.151149  0.700875  5.0  4  5.0"
      ]
     },
     "execution_count": 99,
     "metadata": {},
     "output_type": "execute_result"
    }
   ],
   "source": [
    "#df.fillna()\n",
    "df1.fillna(5)"
   ]
  },
  {
   "cell_type": "code",
   "execution_count": 100,
   "id": "c339871e",
   "metadata": {},
   "outputs": [
    {
     "data": {
      "text/html": [
       "<div>\n",
       "<style scoped>\n",
       "    .dataframe tbody tr th:only-of-type {\n",
       "        vertical-align: middle;\n",
       "    }\n",
       "\n",
       "    .dataframe tbody tr th {\n",
       "        vertical-align: top;\n",
       "    }\n",
       "\n",
       "    .dataframe thead th {\n",
       "        text-align: right;\n",
       "    }\n",
       "</style>\n",
       "<table border=\"1\" class=\"dataframe\">\n",
       "  <thead>\n",
       "    <tr style=\"text-align: right;\">\n",
       "      <th></th>\n",
       "      <th>A</th>\n",
       "      <th>B</th>\n",
       "      <th>C</th>\n",
       "      <th>D</th>\n",
       "      <th>F</th>\n",
       "      <th>E</th>\n",
       "    </tr>\n",
       "  </thead>\n",
       "  <tbody>\n",
       "    <tr>\n",
       "      <th>2024-01-01</th>\n",
       "      <td>False</td>\n",
       "      <td>False</td>\n",
       "      <td>False</td>\n",
       "      <td>False</td>\n",
       "      <td>False</td>\n",
       "      <td>False</td>\n",
       "    </tr>\n",
       "    <tr>\n",
       "      <th>2024-01-02</th>\n",
       "      <td>False</td>\n",
       "      <td>False</td>\n",
       "      <td>False</td>\n",
       "      <td>False</td>\n",
       "      <td>False</td>\n",
       "      <td>False</td>\n",
       "    </tr>\n",
       "    <tr>\n",
       "      <th>2024-01-03</th>\n",
       "      <td>False</td>\n",
       "      <td>False</td>\n",
       "      <td>False</td>\n",
       "      <td>False</td>\n",
       "      <td>False</td>\n",
       "      <td>True</td>\n",
       "    </tr>\n",
       "    <tr>\n",
       "      <th>2024-01-04</th>\n",
       "      <td>False</td>\n",
       "      <td>False</td>\n",
       "      <td>False</td>\n",
       "      <td>False</td>\n",
       "      <td>False</td>\n",
       "      <td>True</td>\n",
       "    </tr>\n",
       "  </tbody>\n",
       "</table>\n",
       "</div>"
      ],
      "text/plain": [
       "                A      B      C      D      F      E\n",
       "2024-01-01  False  False  False  False  False  False\n",
       "2024-01-02  False  False  False  False  False  False\n",
       "2024-01-03  False  False  False  False  False   True\n",
       "2024-01-04  False  False  False  False  False   True"
      ]
     },
     "execution_count": 100,
     "metadata": {},
     "output_type": "execute_result"
    }
   ],
   "source": [
    "#isna()\n",
    "pd.isna(df1)"
   ]
  },
  {
   "cell_type": "markdown",
   "id": "498fdcc5",
   "metadata": {},
   "source": [
    "## Stats"
   ]
  },
  {
   "cell_type": "code",
   "execution_count": 101,
   "id": "1aba75e5",
   "metadata": {},
   "outputs": [
    {
     "data": {
      "text/plain": [
       "A   -0.259804\n",
       "B   -0.004293\n",
       "C    0.290853\n",
       "D    5.000000\n",
       "F    3.500000\n",
       "dtype: float64"
      ]
     },
     "execution_count": 101,
     "metadata": {},
     "output_type": "execute_result"
    }
   ],
   "source": [
    "# mean of each column\n",
    "df.mean()"
   ]
  },
  {
   "cell_type": "code",
   "execution_count": 102,
   "id": "a87751db",
   "metadata": {},
   "outputs": [
    {
     "data": {
      "text/plain": [
       "2024-01-01    1.409233\n",
       "2024-01-02    0.979904\n",
       "2024-01-03    1.613764\n",
       "2024-01-04    1.917494\n",
       "2024-01-05    2.224913\n",
       "2024-01-06    2.086800\n",
       "Freq: D, dtype: float64"
      ]
     },
     "execution_count": 102,
     "metadata": {},
     "output_type": "execute_result"
    }
   ],
   "source": [
    "#mean of row\n",
    "df.mean(axis=1)"
   ]
  },
  {
   "cell_type": "code",
   "execution_count": 108,
   "id": "fc276bb5",
   "metadata": {},
   "outputs": [
    {
     "data": {
      "text/plain": [
       "2024-01-01    NaN\n",
       "2024-01-02    NaN\n",
       "2024-01-03    1.0\n",
       "2024-01-04    3.0\n",
       "2024-01-05    5.0\n",
       "2024-01-06    NaN\n",
       "Freq: D, dtype: float64"
      ]
     },
     "execution_count": 108,
     "metadata": {},
     "output_type": "execute_result"
    }
   ],
   "source": [
    "#shift()\n",
    "s= pd.Series([1,3,5, np.nan, 6, 8], index=dates).shift(2)\n",
    "s"
   ]
  },
  {
   "cell_type": "markdown",
   "id": "79dcd04b",
   "metadata": {},
   "source": [
    "## User defined functions"
   ]
  },
  {
   "cell_type": "code",
   "execution_count": 110,
   "id": "7dd51659",
   "metadata": {},
   "outputs": [
    {
     "data": {
      "text/plain": [
       "A    -1.454905\n",
       "B    -0.024039\n",
       "C     1.628777\n",
       "D    28.000000\n",
       "F    19.600000\n",
       "dtype: float64"
      ]
     },
     "execution_count": 110,
     "metadata": {},
     "output_type": "execute_result"
    }
   ],
   "source": [
    "df.agg(lambda x: np.mean(x)*5.6)"
   ]
  },
  {
   "cell_type": "code",
   "execution_count": 113,
   "id": "ff47173b",
   "metadata": {},
   "outputs": [
    {
     "data": {
      "text/html": [
       "<div>\n",
       "<style scoped>\n",
       "    .dataframe tbody tr th:only-of-type {\n",
       "        vertical-align: middle;\n",
       "    }\n",
       "\n",
       "    .dataframe tbody tr th {\n",
       "        vertical-align: top;\n",
       "    }\n",
       "\n",
       "    .dataframe thead th {\n",
       "        text-align: right;\n",
       "    }\n",
       "</style>\n",
       "<table border=\"1\" class=\"dataframe\">\n",
       "  <thead>\n",
       "    <tr style=\"text-align: right;\">\n",
       "      <th></th>\n",
       "      <th>A</th>\n",
       "      <th>B</th>\n",
       "      <th>C</th>\n",
       "      <th>D</th>\n",
       "      <th>F</th>\n",
       "    </tr>\n",
       "  </thead>\n",
       "  <tbody>\n",
       "    <tr>\n",
       "      <th>2024-01-01</th>\n",
       "      <td>0.000000</td>\n",
       "      <td>-0.511687</td>\n",
       "      <td>106.383758</td>\n",
       "      <td>506.0</td>\n",
       "      <td>101.2</td>\n",
       "    </tr>\n",
       "    <tr>\n",
       "      <th>2024-01-02</th>\n",
       "      <td>-127.270983</td>\n",
       "      <td>-56.148651</td>\n",
       "      <td>-29.149164</td>\n",
       "      <td>506.0</td>\n",
       "      <td>202.4</td>\n",
       "    </tr>\n",
       "    <tr>\n",
       "      <th>2024-01-03</th>\n",
       "      <td>-69.690867</td>\n",
       "      <td>-89.143439</td>\n",
       "      <td>165.798983</td>\n",
       "      <td>506.0</td>\n",
       "      <td>303.6</td>\n",
       "    </tr>\n",
       "    <tr>\n",
       "      <th>2024-01-04</th>\n",
       "      <td>-26.772987</td>\n",
       "      <td>15.296250</td>\n",
       "      <td>70.928552</td>\n",
       "      <td>506.0</td>\n",
       "      <td>404.8</td>\n",
       "    </tr>\n",
       "    <tr>\n",
       "      <th>2024-01-05</th>\n",
       "      <td>125.835021</td>\n",
       "      <td>-13.628318</td>\n",
       "      <td>1.599055</td>\n",
       "      <td>506.0</td>\n",
       "      <td>506.0</td>\n",
       "    </tr>\n",
       "    <tr>\n",
       "      <th>2024-01-06</th>\n",
       "      <td>-59.853438</td>\n",
       "      <td>141.529290</td>\n",
       "      <td>-138.955189</td>\n",
       "      <td>506.0</td>\n",
       "      <td>607.2</td>\n",
       "    </tr>\n",
       "  </tbody>\n",
       "</table>\n",
       "</div>"
      ],
      "text/plain": [
       "                     A           B           C      D      F\n",
       "2024-01-01    0.000000   -0.511687  106.383758  506.0  101.2\n",
       "2024-01-02 -127.270983  -56.148651  -29.149164  506.0  202.4\n",
       "2024-01-03  -69.690867  -89.143439  165.798983  506.0  303.6\n",
       "2024-01-04  -26.772987   15.296250   70.928552  506.0  404.8\n",
       "2024-01-05  125.835021  -13.628318    1.599055  506.0  506.0\n",
       "2024-01-06  -59.853438  141.529290 -138.955189  506.0  607.2"
      ]
     },
     "execution_count": 113,
     "metadata": {},
     "output_type": "execute_result"
    }
   ],
   "source": [
    "df.transform(lambda x: x*101.2)"
   ]
  },
  {
   "cell_type": "markdown",
   "id": "fc0807d8",
   "metadata": {},
   "source": [
    "## Value count"
   ]
  },
  {
   "cell_type": "code",
   "execution_count": 115,
   "id": "61796415",
   "metadata": {},
   "outputs": [
    {
     "data": {
      "text/plain": [
       "0    3\n",
       "1    1\n",
       "2    4\n",
       "3    1\n",
       "4    5\n",
       "5    6\n",
       "6    2\n",
       "7    6\n",
       "8    0\n",
       "9    6\n",
       "dtype: int64"
      ]
     },
     "execution_count": 115,
     "metadata": {},
     "output_type": "execute_result"
    }
   ],
   "source": [
    "s= pd.Series(np.random.randint(0,7, size=10))\n",
    "s"
   ]
  },
  {
   "cell_type": "code",
   "execution_count": 116,
   "id": "92ca3c64",
   "metadata": {},
   "outputs": [
    {
     "data": {
      "text/plain": [
       "6    3\n",
       "1    2\n",
       "3    1\n",
       "4    1\n",
       "5    1\n",
       "2    1\n",
       "0    1\n",
       "Name: count, dtype: int64"
      ]
     },
     "execution_count": 116,
     "metadata": {},
     "output_type": "execute_result"
    }
   ],
   "source": [
    "s.value_counts()"
   ]
  },
  {
   "cell_type": "markdown",
   "id": "9bf45187",
   "metadata": {},
   "source": [
    "## String Methods"
   ]
  },
  {
   "cell_type": "code",
   "execution_count": 118,
   "id": "9c173abe",
   "metadata": {},
   "outputs": [
    {
     "data": {
      "text/plain": [
       "0       A\n",
       "1       B\n",
       "2       C\n",
       "3    Aaba\n",
       "4    Baca\n",
       "5     NaN\n",
       "6    CABA\n",
       "7     dog\n",
       "8     cat\n",
       "dtype: object"
      ]
     },
     "execution_count": 118,
     "metadata": {},
     "output_type": "execute_result"
    }
   ],
   "source": [
    "s= pd.Series(['A', 'B', 'C', \"Aaba\", \"Baca\", np.nan, \"CABA\", \"dog\", \"cat\"])\n",
    "s"
   ]
  },
  {
   "cell_type": "code",
   "execution_count": 119,
   "id": "cc09f211",
   "metadata": {},
   "outputs": [
    {
     "data": {
      "text/plain": [
       "0       a\n",
       "1       b\n",
       "2       c\n",
       "3    aaba\n",
       "4    baca\n",
       "5     NaN\n",
       "6    caba\n",
       "7     dog\n",
       "8     cat\n",
       "dtype: object"
      ]
     },
     "execution_count": 119,
     "metadata": {},
     "output_type": "execute_result"
    }
   ],
   "source": [
    "s.str.lower()"
   ]
  },
  {
   "cell_type": "markdown",
   "id": "b7da3cd4",
   "metadata": {},
   "source": [
    "## Merge\n",
    "### Concat"
   ]
  },
  {
   "cell_type": "code",
   "execution_count": 121,
   "id": "d62d846f",
   "metadata": {},
   "outputs": [
    {
     "data": {
      "text/html": [
       "<div>\n",
       "<style scoped>\n",
       "    .dataframe tbody tr th:only-of-type {\n",
       "        vertical-align: middle;\n",
       "    }\n",
       "\n",
       "    .dataframe tbody tr th {\n",
       "        vertical-align: top;\n",
       "    }\n",
       "\n",
       "    .dataframe thead th {\n",
       "        text-align: right;\n",
       "    }\n",
       "</style>\n",
       "<table border=\"1\" class=\"dataframe\">\n",
       "  <thead>\n",
       "    <tr style=\"text-align: right;\">\n",
       "      <th></th>\n",
       "      <th>0</th>\n",
       "      <th>1</th>\n",
       "      <th>2</th>\n",
       "      <th>3</th>\n",
       "    </tr>\n",
       "  </thead>\n",
       "  <tbody>\n",
       "    <tr>\n",
       "      <th>0</th>\n",
       "      <td>-0.957655</td>\n",
       "      <td>0.113769</td>\n",
       "      <td>1.003507</td>\n",
       "      <td>2.957511</td>\n",
       "    </tr>\n",
       "    <tr>\n",
       "      <th>1</th>\n",
       "      <td>-0.107148</td>\n",
       "      <td>-1.409275</td>\n",
       "      <td>-2.598254</td>\n",
       "      <td>0.462807</td>\n",
       "    </tr>\n",
       "    <tr>\n",
       "      <th>2</th>\n",
       "      <td>0.513285</td>\n",
       "      <td>0.974546</td>\n",
       "      <td>-0.126198</td>\n",
       "      <td>0.160572</td>\n",
       "    </tr>\n",
       "    <tr>\n",
       "      <th>3</th>\n",
       "      <td>0.133254</td>\n",
       "      <td>-1.347055</td>\n",
       "      <td>1.523685</td>\n",
       "      <td>0.938847</td>\n",
       "    </tr>\n",
       "    <tr>\n",
       "      <th>4</th>\n",
       "      <td>-1.616529</td>\n",
       "      <td>1.701334</td>\n",
       "      <td>0.598974</td>\n",
       "      <td>-1.396630</td>\n",
       "    </tr>\n",
       "    <tr>\n",
       "      <th>5</th>\n",
       "      <td>-0.425686</td>\n",
       "      <td>-0.389514</td>\n",
       "      <td>2.828713</td>\n",
       "      <td>1.047904</td>\n",
       "    </tr>\n",
       "    <tr>\n",
       "      <th>6</th>\n",
       "      <td>-1.688313</td>\n",
       "      <td>-0.184123</td>\n",
       "      <td>0.175127</td>\n",
       "      <td>-0.629851</td>\n",
       "    </tr>\n",
       "    <tr>\n",
       "      <th>7</th>\n",
       "      <td>0.652064</td>\n",
       "      <td>-1.044758</td>\n",
       "      <td>0.192276</td>\n",
       "      <td>1.356320</td>\n",
       "    </tr>\n",
       "    <tr>\n",
       "      <th>8</th>\n",
       "      <td>1.164655</td>\n",
       "      <td>-1.141420</td>\n",
       "      <td>1.347906</td>\n",
       "      <td>-0.588210</td>\n",
       "    </tr>\n",
       "    <tr>\n",
       "      <th>9</th>\n",
       "      <td>-0.811108</td>\n",
       "      <td>1.056008</td>\n",
       "      <td>-0.754299</td>\n",
       "      <td>0.087043</td>\n",
       "    </tr>\n",
       "  </tbody>\n",
       "</table>\n",
       "</div>"
      ],
      "text/plain": [
       "          0         1         2         3\n",
       "0 -0.957655  0.113769  1.003507  2.957511\n",
       "1 -0.107148 -1.409275 -2.598254  0.462807\n",
       "2  0.513285  0.974546 -0.126198  0.160572\n",
       "3  0.133254 -1.347055  1.523685  0.938847\n",
       "4 -1.616529  1.701334  0.598974 -1.396630\n",
       "5 -0.425686 -0.389514  2.828713  1.047904\n",
       "6 -1.688313 -0.184123  0.175127 -0.629851\n",
       "7  0.652064 -1.044758  0.192276  1.356320\n",
       "8  1.164655 -1.141420  1.347906 -0.588210\n",
       "9 -0.811108  1.056008 -0.754299  0.087043"
      ]
     },
     "execution_count": 121,
     "metadata": {},
     "output_type": "execute_result"
    }
   ],
   "source": [
    "df = pd.DataFrame(np.random.randn(10,4))\n",
    "df"
   ]
  },
  {
   "cell_type": "code",
   "execution_count": 123,
   "id": "a22ea646",
   "metadata": {},
   "outputs": [
    {
     "data": {
      "text/html": [
       "<div>\n",
       "<style scoped>\n",
       "    .dataframe tbody tr th:only-of-type {\n",
       "        vertical-align: middle;\n",
       "    }\n",
       "\n",
       "    .dataframe tbody tr th {\n",
       "        vertical-align: top;\n",
       "    }\n",
       "\n",
       "    .dataframe thead th {\n",
       "        text-align: right;\n",
       "    }\n",
       "</style>\n",
       "<table border=\"1\" class=\"dataframe\">\n",
       "  <thead>\n",
       "    <tr style=\"text-align: right;\">\n",
       "      <th></th>\n",
       "      <th>0</th>\n",
       "      <th>1</th>\n",
       "      <th>2</th>\n",
       "      <th>3</th>\n",
       "    </tr>\n",
       "  </thead>\n",
       "  <tbody>\n",
       "    <tr>\n",
       "      <th>0</th>\n",
       "      <td>-0.957655</td>\n",
       "      <td>0.113769</td>\n",
       "      <td>1.003507</td>\n",
       "      <td>2.957511</td>\n",
       "    </tr>\n",
       "    <tr>\n",
       "      <th>1</th>\n",
       "      <td>-0.107148</td>\n",
       "      <td>-1.409275</td>\n",
       "      <td>-2.598254</td>\n",
       "      <td>0.462807</td>\n",
       "    </tr>\n",
       "    <tr>\n",
       "      <th>2</th>\n",
       "      <td>0.513285</td>\n",
       "      <td>0.974546</td>\n",
       "      <td>-0.126198</td>\n",
       "      <td>0.160572</td>\n",
       "    </tr>\n",
       "    <tr>\n",
       "      <th>3</th>\n",
       "      <td>0.133254</td>\n",
       "      <td>-1.347055</td>\n",
       "      <td>1.523685</td>\n",
       "      <td>0.938847</td>\n",
       "    </tr>\n",
       "    <tr>\n",
       "      <th>4</th>\n",
       "      <td>-1.616529</td>\n",
       "      <td>1.701334</td>\n",
       "      <td>0.598974</td>\n",
       "      <td>-1.396630</td>\n",
       "    </tr>\n",
       "    <tr>\n",
       "      <th>5</th>\n",
       "      <td>-0.425686</td>\n",
       "      <td>-0.389514</td>\n",
       "      <td>2.828713</td>\n",
       "      <td>1.047904</td>\n",
       "    </tr>\n",
       "    <tr>\n",
       "      <th>6</th>\n",
       "      <td>-1.688313</td>\n",
       "      <td>-0.184123</td>\n",
       "      <td>0.175127</td>\n",
       "      <td>-0.629851</td>\n",
       "    </tr>\n",
       "    <tr>\n",
       "      <th>7</th>\n",
       "      <td>0.652064</td>\n",
       "      <td>-1.044758</td>\n",
       "      <td>0.192276</td>\n",
       "      <td>1.356320</td>\n",
       "    </tr>\n",
       "    <tr>\n",
       "      <th>8</th>\n",
       "      <td>1.164655</td>\n",
       "      <td>-1.141420</td>\n",
       "      <td>1.347906</td>\n",
       "      <td>-0.588210</td>\n",
       "    </tr>\n",
       "    <tr>\n",
       "      <th>9</th>\n",
       "      <td>-0.811108</td>\n",
       "      <td>1.056008</td>\n",
       "      <td>-0.754299</td>\n",
       "      <td>0.087043</td>\n",
       "    </tr>\n",
       "  </tbody>\n",
       "</table>\n",
       "</div>"
      ],
      "text/plain": [
       "          0         1         2         3\n",
       "0 -0.957655  0.113769  1.003507  2.957511\n",
       "1 -0.107148 -1.409275 -2.598254  0.462807\n",
       "2  0.513285  0.974546 -0.126198  0.160572\n",
       "3  0.133254 -1.347055  1.523685  0.938847\n",
       "4 -1.616529  1.701334  0.598974 -1.396630\n",
       "5 -0.425686 -0.389514  2.828713  1.047904\n",
       "6 -1.688313 -0.184123  0.175127 -0.629851\n",
       "7  0.652064 -1.044758  0.192276  1.356320\n",
       "8  1.164655 -1.141420  1.347906 -0.588210\n",
       "9 -0.811108  1.056008 -0.754299  0.087043"
      ]
     },
     "execution_count": 123,
     "metadata": {},
     "output_type": "execute_result"
    }
   ],
   "source": [
    "#concat(): Concatenating pandas objects together row-wise \n",
    "pieces = [df[:3], df[3:7], df[7:]]\n",
    "pd.concat(pieces)"
   ]
  },
  {
   "cell_type": "markdown",
   "id": "26b2cfad",
   "metadata": {},
   "source": [
    "### Join"
   ]
  },
  {
   "cell_type": "code",
   "execution_count": 124,
   "id": "4e5aaefc",
   "metadata": {},
   "outputs": [],
   "source": [
    "left = pd.DataFrame({\"key\": [\"foo\", \"foo\"], \"lval\": [1, 2]})\n",
    "\n",
    "right = pd.DataFrame({\"key\": [\"foo\", \"foo\"], \"rval\": [4, 5]})"
   ]
  },
  {
   "cell_type": "code",
   "execution_count": 125,
   "id": "882be2ed",
   "metadata": {},
   "outputs": [
    {
     "data": {
      "text/html": [
       "<div>\n",
       "<style scoped>\n",
       "    .dataframe tbody tr th:only-of-type {\n",
       "        vertical-align: middle;\n",
       "    }\n",
       "\n",
       "    .dataframe tbody tr th {\n",
       "        vertical-align: top;\n",
       "    }\n",
       "\n",
       "    .dataframe thead th {\n",
       "        text-align: right;\n",
       "    }\n",
       "</style>\n",
       "<table border=\"1\" class=\"dataframe\">\n",
       "  <thead>\n",
       "    <tr style=\"text-align: right;\">\n",
       "      <th></th>\n",
       "      <th>key</th>\n",
       "      <th>lval</th>\n",
       "    </tr>\n",
       "  </thead>\n",
       "  <tbody>\n",
       "    <tr>\n",
       "      <th>0</th>\n",
       "      <td>foo</td>\n",
       "      <td>1</td>\n",
       "    </tr>\n",
       "    <tr>\n",
       "      <th>1</th>\n",
       "      <td>foo</td>\n",
       "      <td>2</td>\n",
       "    </tr>\n",
       "  </tbody>\n",
       "</table>\n",
       "</div>"
      ],
      "text/plain": [
       "   key  lval\n",
       "0  foo     1\n",
       "1  foo     2"
      ]
     },
     "execution_count": 125,
     "metadata": {},
     "output_type": "execute_result"
    }
   ],
   "source": [
    "left"
   ]
  },
  {
   "cell_type": "code",
   "execution_count": 126,
   "id": "49babca8",
   "metadata": {},
   "outputs": [
    {
     "data": {
      "text/html": [
       "<div>\n",
       "<style scoped>\n",
       "    .dataframe tbody tr th:only-of-type {\n",
       "        vertical-align: middle;\n",
       "    }\n",
       "\n",
       "    .dataframe tbody tr th {\n",
       "        vertical-align: top;\n",
       "    }\n",
       "\n",
       "    .dataframe thead th {\n",
       "        text-align: right;\n",
       "    }\n",
       "</style>\n",
       "<table border=\"1\" class=\"dataframe\">\n",
       "  <thead>\n",
       "    <tr style=\"text-align: right;\">\n",
       "      <th></th>\n",
       "      <th>key</th>\n",
       "      <th>rval</th>\n",
       "    </tr>\n",
       "  </thead>\n",
       "  <tbody>\n",
       "    <tr>\n",
       "      <th>0</th>\n",
       "      <td>foo</td>\n",
       "      <td>4</td>\n",
       "    </tr>\n",
       "    <tr>\n",
       "      <th>1</th>\n",
       "      <td>foo</td>\n",
       "      <td>5</td>\n",
       "    </tr>\n",
       "  </tbody>\n",
       "</table>\n",
       "</div>"
      ],
      "text/plain": [
       "   key  rval\n",
       "0  foo     4\n",
       "1  foo     5"
      ]
     },
     "execution_count": 126,
     "metadata": {},
     "output_type": "execute_result"
    }
   ],
   "source": [
    "right"
   ]
  },
  {
   "cell_type": "code",
   "execution_count": 129,
   "id": "8f7f57c2",
   "metadata": {},
   "outputs": [
    {
     "data": {
      "text/html": [
       "<div>\n",
       "<style scoped>\n",
       "    .dataframe tbody tr th:only-of-type {\n",
       "        vertical-align: middle;\n",
       "    }\n",
       "\n",
       "    .dataframe tbody tr th {\n",
       "        vertical-align: top;\n",
       "    }\n",
       "\n",
       "    .dataframe thead th {\n",
       "        text-align: right;\n",
       "    }\n",
       "</style>\n",
       "<table border=\"1\" class=\"dataframe\">\n",
       "  <thead>\n",
       "    <tr style=\"text-align: right;\">\n",
       "      <th></th>\n",
       "      <th>key</th>\n",
       "      <th>lval</th>\n",
       "      <th>rval</th>\n",
       "    </tr>\n",
       "  </thead>\n",
       "  <tbody>\n",
       "    <tr>\n",
       "      <th>0</th>\n",
       "      <td>foo</td>\n",
       "      <td>1</td>\n",
       "      <td>4</td>\n",
       "    </tr>\n",
       "    <tr>\n",
       "      <th>1</th>\n",
       "      <td>foo</td>\n",
       "      <td>1</td>\n",
       "      <td>5</td>\n",
       "    </tr>\n",
       "    <tr>\n",
       "      <th>2</th>\n",
       "      <td>foo</td>\n",
       "      <td>2</td>\n",
       "      <td>4</td>\n",
       "    </tr>\n",
       "    <tr>\n",
       "      <th>3</th>\n",
       "      <td>foo</td>\n",
       "      <td>2</td>\n",
       "      <td>5</td>\n",
       "    </tr>\n",
       "  </tbody>\n",
       "</table>\n",
       "</div>"
      ],
      "text/plain": [
       "   key  lval  rval\n",
       "0  foo     1     4\n",
       "1  foo     1     5\n",
       "2  foo     2     4\n",
       "3  foo     2     5"
      ]
     },
     "execution_count": 129,
     "metadata": {},
     "output_type": "execute_result"
    }
   ],
   "source": [
    "#pd.merge()\n",
    "pd.merge(left, right, on='key')"
   ]
  },
  {
   "cell_type": "markdown",
   "id": "664d0674",
   "metadata": {},
   "source": [
    "### Grouping"
   ]
  },
  {
   "cell_type": "code",
   "execution_count": 132,
   "id": "ee9a2d0d",
   "metadata": {},
   "outputs": [
    {
     "data": {
      "text/html": [
       "<div>\n",
       "<style scoped>\n",
       "    .dataframe tbody tr th:only-of-type {\n",
       "        vertical-align: middle;\n",
       "    }\n",
       "\n",
       "    .dataframe tbody tr th {\n",
       "        vertical-align: top;\n",
       "    }\n",
       "\n",
       "    .dataframe thead th {\n",
       "        text-align: right;\n",
       "    }\n",
       "</style>\n",
       "<table border=\"1\" class=\"dataframe\">\n",
       "  <thead>\n",
       "    <tr style=\"text-align: right;\">\n",
       "      <th></th>\n",
       "      <th>A</th>\n",
       "      <th>B</th>\n",
       "      <th>C</th>\n",
       "      <th>D</th>\n",
       "    </tr>\n",
       "  </thead>\n",
       "  <tbody>\n",
       "    <tr>\n",
       "      <th>0</th>\n",
       "      <td>foo</td>\n",
       "      <td>one</td>\n",
       "      <td>-0.920991</td>\n",
       "      <td>-0.019857</td>\n",
       "    </tr>\n",
       "    <tr>\n",
       "      <th>1</th>\n",
       "      <td>bar</td>\n",
       "      <td>one</td>\n",
       "      <td>1.831610</td>\n",
       "      <td>0.919802</td>\n",
       "    </tr>\n",
       "    <tr>\n",
       "      <th>2</th>\n",
       "      <td>foo</td>\n",
       "      <td>two</td>\n",
       "      <td>0.873950</td>\n",
       "      <td>0.617887</td>\n",
       "    </tr>\n",
       "    <tr>\n",
       "      <th>3</th>\n",
       "      <td>bar</td>\n",
       "      <td>three</td>\n",
       "      <td>-0.533429</td>\n",
       "      <td>0.000786</td>\n",
       "    </tr>\n",
       "    <tr>\n",
       "      <th>4</th>\n",
       "      <td>foo</td>\n",
       "      <td>two</td>\n",
       "      <td>-0.447136</td>\n",
       "      <td>0.311754</td>\n",
       "    </tr>\n",
       "    <tr>\n",
       "      <th>5</th>\n",
       "      <td>bar</td>\n",
       "      <td>two</td>\n",
       "      <td>-0.710207</td>\n",
       "      <td>-1.209946</td>\n",
       "    </tr>\n",
       "    <tr>\n",
       "      <th>6</th>\n",
       "      <td>foo</td>\n",
       "      <td>one</td>\n",
       "      <td>0.068937</td>\n",
       "      <td>0.442405</td>\n",
       "    </tr>\n",
       "    <tr>\n",
       "      <th>7</th>\n",
       "      <td>foo</td>\n",
       "      <td>three</td>\n",
       "      <td>0.288368</td>\n",
       "      <td>-0.898515</td>\n",
       "    </tr>\n",
       "  </tbody>\n",
       "</table>\n",
       "</div>"
      ],
      "text/plain": [
       "     A      B         C         D\n",
       "0  foo    one -0.920991 -0.019857\n",
       "1  bar    one  1.831610  0.919802\n",
       "2  foo    two  0.873950  0.617887\n",
       "3  bar  three -0.533429  0.000786\n",
       "4  foo    two -0.447136  0.311754\n",
       "5  bar    two -0.710207 -1.209946\n",
       "6  foo    one  0.068937  0.442405\n",
       "7  foo  three  0.288368 -0.898515"
      ]
     },
     "execution_count": 132,
     "metadata": {},
     "output_type": "execute_result"
    }
   ],
   "source": [
    "df = pd.DataFrame(\n",
    "    {\n",
    "        \"A\": [\"foo\", \"bar\", \"foo\", \"bar\", \"foo\", \"bar\", \"foo\", \"foo\"],\n",
    "        \"B\": [\"one\", \"one\", \"two\", \"three\", \"two\", \"two\", \"one\", \"three\"],\n",
    "        \"C\": np.random.randn(8),\n",
    "        \"D\": np.random.randn(8),\n",
    "    }\n",
    ")\n",
    "df"
   ]
  },
  {
   "cell_type": "code",
   "execution_count": 138,
   "id": "9e9e84b2",
   "metadata": {},
   "outputs": [
    {
     "data": {
      "text/html": [
       "<div>\n",
       "<style scoped>\n",
       "    .dataframe tbody tr th:only-of-type {\n",
       "        vertical-align: middle;\n",
       "    }\n",
       "\n",
       "    .dataframe tbody tr th {\n",
       "        vertical-align: top;\n",
       "    }\n",
       "\n",
       "    .dataframe thead th {\n",
       "        text-align: right;\n",
       "    }\n",
       "</style>\n",
       "<table border=\"1\" class=\"dataframe\">\n",
       "  <thead>\n",
       "    <tr style=\"text-align: right;\">\n",
       "      <th></th>\n",
       "      <th>C</th>\n",
       "      <th>D</th>\n",
       "    </tr>\n",
       "    <tr>\n",
       "      <th>A</th>\n",
       "      <th></th>\n",
       "      <th></th>\n",
       "    </tr>\n",
       "  </thead>\n",
       "  <tbody>\n",
       "    <tr>\n",
       "      <th>bar</th>\n",
       "      <td>0.587974</td>\n",
       "      <td>-0.289358</td>\n",
       "    </tr>\n",
       "    <tr>\n",
       "      <th>foo</th>\n",
       "      <td>-0.136872</td>\n",
       "      <td>0.453675</td>\n",
       "    </tr>\n",
       "  </tbody>\n",
       "</table>\n",
       "</div>"
      ],
      "text/plain": [
       "            C         D\n",
       "A                      \n",
       "bar  0.587974 -0.289358\n",
       "foo -0.136872  0.453675"
      ]
     },
     "execution_count": 138,
     "metadata": {},
     "output_type": "execute_result"
    }
   ],
   "source": [
    "# DataFrameGroupBy.sum()\n",
    "#Grouping by 1 column label, selecting column labels, \n",
    "#and then applying the sum func\n",
    "df.groupby('A')[['C','D']].sum()"
   ]
  },
  {
   "cell_type": "code",
   "execution_count": 140,
   "id": "b7a29649",
   "metadata": {},
   "outputs": [
    {
     "data": {
      "text/html": [
       "<div>\n",
       "<style scoped>\n",
       "    .dataframe tbody tr th:only-of-type {\n",
       "        vertical-align: middle;\n",
       "    }\n",
       "\n",
       "    .dataframe tbody tr th {\n",
       "        vertical-align: top;\n",
       "    }\n",
       "\n",
       "    .dataframe thead th {\n",
       "        text-align: right;\n",
       "    }\n",
       "</style>\n",
       "<table border=\"1\" class=\"dataframe\">\n",
       "  <thead>\n",
       "    <tr style=\"text-align: right;\">\n",
       "      <th></th>\n",
       "      <th></th>\n",
       "      <th>C</th>\n",
       "      <th>D</th>\n",
       "    </tr>\n",
       "    <tr>\n",
       "      <th>A</th>\n",
       "      <th>B</th>\n",
       "      <th></th>\n",
       "      <th></th>\n",
       "    </tr>\n",
       "  </thead>\n",
       "  <tbody>\n",
       "    <tr>\n",
       "      <th rowspan=\"3\" valign=\"top\">bar</th>\n",
       "      <th>one</th>\n",
       "      <td>1.831610</td>\n",
       "      <td>0.919802</td>\n",
       "    </tr>\n",
       "    <tr>\n",
       "      <th>three</th>\n",
       "      <td>-0.533429</td>\n",
       "      <td>0.000786</td>\n",
       "    </tr>\n",
       "    <tr>\n",
       "      <th>two</th>\n",
       "      <td>-0.710207</td>\n",
       "      <td>-1.209946</td>\n",
       "    </tr>\n",
       "    <tr>\n",
       "      <th rowspan=\"3\" valign=\"top\">foo</th>\n",
       "      <th>one</th>\n",
       "      <td>-0.852054</td>\n",
       "      <td>0.422548</td>\n",
       "    </tr>\n",
       "    <tr>\n",
       "      <th>three</th>\n",
       "      <td>0.288368</td>\n",
       "      <td>-0.898515</td>\n",
       "    </tr>\n",
       "    <tr>\n",
       "      <th>two</th>\n",
       "      <td>0.426814</td>\n",
       "      <td>0.929641</td>\n",
       "    </tr>\n",
       "  </tbody>\n",
       "</table>\n",
       "</div>"
      ],
      "text/plain": [
       "                  C         D\n",
       "A   B                        \n",
       "bar one    1.831610  0.919802\n",
       "    three -0.533429  0.000786\n",
       "    two   -0.710207 -1.209946\n",
       "foo one   -0.852054  0.422548\n",
       "    three  0.288368 -0.898515\n",
       "    two    0.426814  0.929641"
      ]
     },
     "execution_count": 140,
     "metadata": {},
     "output_type": "execute_result"
    }
   ],
   "source": [
    "#Grouping by multiple column label\n",
    "df.groupby(['A','B']).sum()"
   ]
  },
  {
   "cell_type": "code",
   "execution_count": null,
   "id": "6a7e309d",
   "metadata": {},
   "outputs": [],
   "source": []
  },
  {
   "cell_type": "code",
   "execution_count": null,
   "id": "8d74f3a1",
   "metadata": {},
   "outputs": [],
   "source": []
  }
 ],
 "metadata": {
  "kernelspec": {
   "display_name": "Python 3 (ipykernel)",
   "language": "python",
   "name": "python3"
  },
  "language_info": {
   "codemirror_mode": {
    "name": "ipython",
    "version": 3
   },
   "file_extension": ".py",
   "mimetype": "text/x-python",
   "name": "python",
   "nbconvert_exporter": "python",
   "pygments_lexer": "ipython3",
   "version": "3.11.5"
  }
 },
 "nbformat": 4,
 "nbformat_minor": 5
}
